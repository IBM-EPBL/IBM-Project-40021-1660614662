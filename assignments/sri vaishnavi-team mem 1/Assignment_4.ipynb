{
  "nbformat": 4,
  "nbformat_minor": 0,
  "metadata": {
    "colab": {
      "provenance": [],
      "collapsed_sections": []
    },
    "kernelspec": {
      "name": "python3",
      "display_name": "Python 3"
    },
    "language_info": {
      "name": "python"
    }
  },
  "cells": [
    {
      "cell_type": "code",
      "execution_count": 1,
      "metadata": {
        "id": "jK-iwRnyclkL"
      },
      "outputs": [],
      "source": [
        "import pandas as pd\n",
        "import numpy as np\n",
        "import matplotlib.pyplot as plt\n",
        "import seaborn as sns\n",
        "\n",
        "import warnings\n",
        "warnings.filterwarnings(action = 'ignore')"
      ]
    },
    {
      "cell_type": "markdown",
      "source": [
        "2. Load the dataset into the tool."
      ],
      "metadata": {
        "id": "NLrt0j_xrjXL"
      }
    },
    {
      "cell_type": "code",
      "source": [
        "data = pd.read_csv('/content/drive/MyDrive/Mall_Customers.csv')"
      ],
      "metadata": {
        "id": "YuSJA_--dNz4"
      },
      "execution_count": 3,
      "outputs": []
    },
    {
      "cell_type": "code",
      "source": [
        "df = pd.DataFrame(data)\n",
        "df"
      ],
      "metadata": {
        "colab": {
          "base_uri": "https://localhost:8080/",
          "height": 424
        },
        "id": "T5emiYRFdaCU",
        "outputId": "ac41c51d-17ec-49ef-e4c7-1fe8ae9e61ae"
      },
      "execution_count": 4,
      "outputs": [
        {
          "output_type": "execute_result",
          "data": {
            "text/plain": [
              "     CustomerID  Gender  Age  Annual Income (k$)  Spending Score (1-100)\n",
              "0             1    Male   19                  15                      39\n",
              "1             2    Male   21                  15                      81\n",
              "2             3  Female   20                  16                       6\n",
              "3             4  Female   23                  16                      77\n",
              "4             5  Female   31                  17                      40\n",
              "..          ...     ...  ...                 ...                     ...\n",
              "195         196  Female   35                 120                      79\n",
              "196         197  Female   45                 126                      28\n",
              "197         198    Male   32                 126                      74\n",
              "198         199    Male   32                 137                      18\n",
              "199         200    Male   30                 137                      83\n",
              "\n",
              "[200 rows x 5 columns]"
            ],
            "text/html": [
              "\n",
              "  <div id=\"df-6dca21ae-99f0-4172-b0f2-59f1657c6c42\">\n",
              "    <div class=\"colab-df-container\">\n",
              "      <div>\n",
              "<style scoped>\n",
              "    .dataframe tbody tr th:only-of-type {\n",
              "        vertical-align: middle;\n",
              "    }\n",
              "\n",
              "    .dataframe tbody tr th {\n",
              "        vertical-align: top;\n",
              "    }\n",
              "\n",
              "    .dataframe thead th {\n",
              "        text-align: right;\n",
              "    }\n",
              "</style>\n",
              "<table border=\"1\" class=\"dataframe\">\n",
              "  <thead>\n",
              "    <tr style=\"text-align: right;\">\n",
              "      <th></th>\n",
              "      <th>CustomerID</th>\n",
              "      <th>Gender</th>\n",
              "      <th>Age</th>\n",
              "      <th>Annual Income (k$)</th>\n",
              "      <th>Spending Score (1-100)</th>\n",
              "    </tr>\n",
              "  </thead>\n",
              "  <tbody>\n",
              "    <tr>\n",
              "      <th>0</th>\n",
              "      <td>1</td>\n",
              "      <td>Male</td>\n",
              "      <td>19</td>\n",
              "      <td>15</td>\n",
              "      <td>39</td>\n",
              "    </tr>\n",
              "    <tr>\n",
              "      <th>1</th>\n",
              "      <td>2</td>\n",
              "      <td>Male</td>\n",
              "      <td>21</td>\n",
              "      <td>15</td>\n",
              "      <td>81</td>\n",
              "    </tr>\n",
              "    <tr>\n",
              "      <th>2</th>\n",
              "      <td>3</td>\n",
              "      <td>Female</td>\n",
              "      <td>20</td>\n",
              "      <td>16</td>\n",
              "      <td>6</td>\n",
              "    </tr>\n",
              "    <tr>\n",
              "      <th>3</th>\n",
              "      <td>4</td>\n",
              "      <td>Female</td>\n",
              "      <td>23</td>\n",
              "      <td>16</td>\n",
              "      <td>77</td>\n",
              "    </tr>\n",
              "    <tr>\n",
              "      <th>4</th>\n",
              "      <td>5</td>\n",
              "      <td>Female</td>\n",
              "      <td>31</td>\n",
              "      <td>17</td>\n",
              "      <td>40</td>\n",
              "    </tr>\n",
              "    <tr>\n",
              "      <th>...</th>\n",
              "      <td>...</td>\n",
              "      <td>...</td>\n",
              "      <td>...</td>\n",
              "      <td>...</td>\n",
              "      <td>...</td>\n",
              "    </tr>\n",
              "    <tr>\n",
              "      <th>195</th>\n",
              "      <td>196</td>\n",
              "      <td>Female</td>\n",
              "      <td>35</td>\n",
              "      <td>120</td>\n",
              "      <td>79</td>\n",
              "    </tr>\n",
              "    <tr>\n",
              "      <th>196</th>\n",
              "      <td>197</td>\n",
              "      <td>Female</td>\n",
              "      <td>45</td>\n",
              "      <td>126</td>\n",
              "      <td>28</td>\n",
              "    </tr>\n",
              "    <tr>\n",
              "      <th>197</th>\n",
              "      <td>198</td>\n",
              "      <td>Male</td>\n",
              "      <td>32</td>\n",
              "      <td>126</td>\n",
              "      <td>74</td>\n",
              "    </tr>\n",
              "    <tr>\n",
              "      <th>198</th>\n",
              "      <td>199</td>\n",
              "      <td>Male</td>\n",
              "      <td>32</td>\n",
              "      <td>137</td>\n",
              "      <td>18</td>\n",
              "    </tr>\n",
              "    <tr>\n",
              "      <th>199</th>\n",
              "      <td>200</td>\n",
              "      <td>Male</td>\n",
              "      <td>30</td>\n",
              "      <td>137</td>\n",
              "      <td>83</td>\n",
              "    </tr>\n",
              "  </tbody>\n",
              "</table>\n",
              "<p>200 rows × 5 columns</p>\n",
              "</div>\n",
              "      <button class=\"colab-df-convert\" onclick=\"convertToInteractive('df-6dca21ae-99f0-4172-b0f2-59f1657c6c42')\"\n",
              "              title=\"Convert this dataframe to an interactive table.\"\n",
              "              style=\"display:none;\">\n",
              "        \n",
              "  <svg xmlns=\"http://www.w3.org/2000/svg\" height=\"24px\"viewBox=\"0 0 24 24\"\n",
              "       width=\"24px\">\n",
              "    <path d=\"M0 0h24v24H0V0z\" fill=\"none\"/>\n",
              "    <path d=\"M18.56 5.44l.94 2.06.94-2.06 2.06-.94-2.06-.94-.94-2.06-.94 2.06-2.06.94zm-11 1L8.5 8.5l.94-2.06 2.06-.94-2.06-.94L8.5 2.5l-.94 2.06-2.06.94zm10 10l.94 2.06.94-2.06 2.06-.94-2.06-.94-.94-2.06-.94 2.06-2.06.94z\"/><path d=\"M17.41 7.96l-1.37-1.37c-.4-.4-.92-.59-1.43-.59-.52 0-1.04.2-1.43.59L10.3 9.45l-7.72 7.72c-.78.78-.78 2.05 0 2.83L4 21.41c.39.39.9.59 1.41.59.51 0 1.02-.2 1.41-.59l7.78-7.78 2.81-2.81c.8-.78.8-2.07 0-2.86zM5.41 20L4 18.59l7.72-7.72 1.47 1.35L5.41 20z\"/>\n",
              "  </svg>\n",
              "      </button>\n",
              "      \n",
              "  <style>\n",
              "    .colab-df-container {\n",
              "      display:flex;\n",
              "      flex-wrap:wrap;\n",
              "      gap: 12px;\n",
              "    }\n",
              "\n",
              "    .colab-df-convert {\n",
              "      background-color: #E8F0FE;\n",
              "      border: none;\n",
              "      border-radius: 50%;\n",
              "      cursor: pointer;\n",
              "      display: none;\n",
              "      fill: #1967D2;\n",
              "      height: 32px;\n",
              "      padding: 0 0 0 0;\n",
              "      width: 32px;\n",
              "    }\n",
              "\n",
              "    .colab-df-convert:hover {\n",
              "      background-color: #E2EBFA;\n",
              "      box-shadow: 0px 1px 2px rgba(60, 64, 67, 0.3), 0px 1px 3px 1px rgba(60, 64, 67, 0.15);\n",
              "      fill: #174EA6;\n",
              "    }\n",
              "\n",
              "    [theme=dark] .colab-df-convert {\n",
              "      background-color: #3B4455;\n",
              "      fill: #D2E3FC;\n",
              "    }\n",
              "\n",
              "    [theme=dark] .colab-df-convert:hover {\n",
              "      background-color: #434B5C;\n",
              "      box-shadow: 0px 1px 3px 1px rgba(0, 0, 0, 0.15);\n",
              "      filter: drop-shadow(0px 1px 2px rgba(0, 0, 0, 0.3));\n",
              "      fill: #FFFFFF;\n",
              "    }\n",
              "  </style>\n",
              "\n",
              "      <script>\n",
              "        const buttonEl =\n",
              "          document.querySelector('#df-6dca21ae-99f0-4172-b0f2-59f1657c6c42 button.colab-df-convert');\n",
              "        buttonEl.style.display =\n",
              "          google.colab.kernel.accessAllowed ? 'block' : 'none';\n",
              "\n",
              "        async function convertToInteractive(key) {\n",
              "          const element = document.querySelector('#df-6dca21ae-99f0-4172-b0f2-59f1657c6c42');\n",
              "          const dataTable =\n",
              "            await google.colab.kernel.invokeFunction('convertToInteractive',\n",
              "                                                     [key], {});\n",
              "          if (!dataTable) return;\n",
              "\n",
              "          const docLinkHtml = 'Like what you see? Visit the ' +\n",
              "            '<a target=\"_blank\" href=https://colab.research.google.com/notebooks/data_table.ipynb>data table notebook</a>'\n",
              "            + ' to learn more about interactive tables.';\n",
              "          element.innerHTML = '';\n",
              "          dataTable['output_type'] = 'display_data';\n",
              "          await google.colab.output.renderOutput(dataTable, element);\n",
              "          const docLink = document.createElement('div');\n",
              "          docLink.innerHTML = docLinkHtml;\n",
              "          element.appendChild(docLink);\n",
              "        }\n",
              "      </script>\n",
              "    </div>\n",
              "  </div>\n",
              "  "
            ]
          },
          "metadata": {},
          "execution_count": 4
        }
      ]
    },
    {
      "cell_type": "markdown",
      "source": [
        "3.Perform below Visualizations\n",
        "(i) Univariate Analysis"
      ],
      "metadata": {
        "id": "rogOQ-jZ1y2e"
      }
    },
    {
      "cell_type": "code",
      "source": [
        "sns.boxplot(df['Annual Income (k$)'])"
      ],
      "metadata": {
        "colab": {
          "base_uri": "https://localhost:8080/",
          "height": 296
        },
        "id": "UMJXHUHDdkdQ",
        "outputId": "0f401ab2-9227-4a08-8441-a3f46b9cbf78"
      },
      "execution_count": 7,
      "outputs": [
        {
          "output_type": "execute_result",
          "data": {
            "text/plain": [
              "<matplotlib.axes._subplots.AxesSubplot at 0x7fc7688d0d50>"
            ]
          },
          "metadata": {},
          "execution_count": 7
        },
        {
          "output_type": "display_data",
          "data": {
            "text/plain": [
              "<Figure size 432x288 with 1 Axes>"
            ],
            "image/png": "[encoded data removed]"
          },
          "metadata": {
            "needs_background": "light"
          }
        }
      ]
    },
    {
      "cell_type": "markdown",
      "source": [
        "(ii)Bivariate Analysis"
      ],
      "metadata": {
        "id": "CHthK8dZ1_V4"
      }
    },
    {
      "cell_type": "code",
      "source": [
        "gender = df['Gender']\n",
        "age = df['Age']\n",
        "sns.boxplot(gender,age)"
      ],
      "metadata": {
        "colab": {
          "base_uri": "https://localhost:8080/",
          "height": 296
        },
        "id": "ZI7hvQZw2DCq",
        "outputId": "6c8491df-768d-40f3-b86a-9957738d416b"
      },
      "execution_count": 8,
      "outputs": [
        {
          "output_type": "execute_result",
          "data": {
            "text/plain": [
              "<matplotlib.axes._subplots.AxesSubplot at 0x7fc767dca450>"
            ]
          },
          "metadata": {},
          "execution_count": 8
        },
        {
          "output_type": "display_data",
          "data": {
            "text/plain": [
              "<Figure size 432x288 with 1 Axes>"
            ],
            "image/png": "[encoded data removed]"
          },
          "metadata": {
            "needs_background": "light"
          }
        }
      ]
    },
    {
      "cell_type": "markdown",
      "source": [
        "(iii)Multivariate Analysis"
      ],
      "metadata": {
        "id": "H3WJN7P36c-S"
      }
    },
    {
      "cell_type": "code",
      "source": [
        "plt.figure(figsize=(10, 10))\n",
        "corr = df.corr()\n",
        "_ = sns.heatmap(corr, annot=True)"
      ],
      "metadata": {
        "colab": {
          "base_uri": "https://localhost:8080/",
          "height": 595
        },
        "id": "8P82PEiG6hr7",
        "outputId": "c6eb3afa-5f25-4b9e-e7ef-ac193bb38c30"
      },
      "execution_count": 9,
      "outputs": [
        {
          "output_type": "display_data",
          "data": {
            "text/plain": [
              "<Figure size 720x720 with 2 Axes>"
            ],
            "image/png": "[encoded data removed]"
          },
          "metadata": {
            "needs_background": "light"
          }
        }
      ]
    },
    {
      "cell_type": "markdown",
      "source": [
        "4. Perform descriptive statistics on the dataset.\n"
      ],
      "metadata": {
        "id": "RN2mX-YM7s4P"
      }
    },
    {
      "cell_type": "code",
      "source": [
        "df['Age'].mean()"
      ],
      "metadata": {
        "colab": {
          "base_uri": "https://localhost:8080/"
        },
        "id": "dI1TwLGLeuAO",
        "outputId": "80ec8a07-5886-4ee2-f20e-094479848e60"
      },
      "execution_count": 10,
      "outputs": [
        {
          "output_type": "execute_result",
          "data": {
            "text/plain": [
              "38.85"
            ]
          },
          "metadata": {},
          "execution_count": 10
        }
      ]
    },
    {
      "cell_type": "code",
      "source": [
        "x=round(df['Age'].mean())\n",
        "print(x)"
      ],
      "metadata": {
        "colab": {
          "base_uri": "https://localhost:8080/"
        },
        "id": "12AYbH-KeuNX",
        "outputId": "aaceeb09-82ab-4fbf-a6fa-0d3559733a35"
      },
      "execution_count": 11,
      "outputs": [
        {
          "output_type": "stream",
          "name": "stdout",
          "text": [
            "39\n"
          ]
        }
      ]
    },
    {
      "cell_type": "code",
      "source": [
        "df['Age'].median()"
      ],
      "metadata": {
        "colab": {
          "base_uri": "https://localhost:8080/"
        },
        "id": "EKekjJmWeudK",
        "outputId": "eb65e558-1386-40ba-baa3-42cf2048bd5b"
      },
      "execution_count": 12,
      "outputs": [
        {
          "output_type": "execute_result",
          "data": {
            "text/plain": [
              "36.0"
            ]
          },
          "metadata": {},
          "execution_count": 12
        }
      ]
    },
    {
      "cell_type": "code",
      "source": [
        "df['Age'].mode()"
      ],
      "metadata": {
        "colab": {
          "base_uri": "https://localhost:8080/"
        },
        "id": "_iPggK1teusu",
        "outputId": "5746ca90-c726-4009-f5ad-e5d1849619f8"
      },
      "execution_count": 13,
      "outputs": [
        {
          "output_type": "execute_result",
          "data": {
            "text/plain": [
              "0    32\n",
              "dtype: int64"
            ]
          },
          "metadata": {},
          "execution_count": 13
        }
      ]
    },
    {
      "cell_type": "code",
      "source": [
        "df['Age'].std()"
      ],
      "metadata": {
        "colab": {
          "base_uri": "https://localhost:8080/"
        },
        "id": "yckgbi6peu5Z",
        "outputId": "0282704d-4469-44a5-e1d1-5b3f09a7fbb9"
      },
      "execution_count": 14,
      "outputs": [
        {
          "output_type": "execute_result",
          "data": {
            "text/plain": [
              "13.96900733155888"
            ]
          },
          "metadata": {},
          "execution_count": 14
        }
      ]
    },
    {
      "cell_type": "code",
      "source": [
        "y = round(df['Age'].std())\n",
        "print(y)"
      ],
      "metadata": {
        "colab": {
          "base_uri": "https://localhost:8080/"
        },
        "id": "cpEofkATevH9",
        "outputId": "38acf5a7-2552-485a-af09-fa210b48a437"
      },
      "execution_count": 15,
      "outputs": [
        {
          "output_type": "stream",
          "name": "stdout",
          "text": [
            "14\n"
          ]
        }
      ]
    },
    {
      "cell_type": "markdown",
      "source": [
        "5. Check for Missing values and deal with them.\n"
      ],
      "metadata": {
        "id": "594FH39q84px"
      }
    },
    {
      "cell_type": "code",
      "source": [
        "df.isna().sum()"
      ],
      "metadata": {
        "colab": {
          "base_uri": "https://localhost:8080/"
        },
        "id": "QoSN5isdfKRY",
        "outputId": "513cf9f1-70b6-45ba-8f7d-18ef2892ce73"
      },
      "execution_count": 16,
      "outputs": [
        {
          "output_type": "execute_result",
          "data": {
            "text/plain": [
              "CustomerID                0\n",
              "Gender                    0\n",
              "Age                       0\n",
              "Annual Income (k$)        0\n",
              "Spending Score (1-100)    0\n",
              "dtype: int64"
            ]
          },
          "metadata": {},
          "execution_count": 16
        }
      ]
    },
    {
      "cell_type": "markdown",
      "source": [
        "6. Find the outliers and replace them outliers"
      ],
      "metadata": {
        "id": "MC9o7qCJ9Hhw"
      }
    },
    {
      "cell_type": "code",
      "source": [
        "plt.boxplot(df['Annual Income (k$)'])\n",
        "plt.show()"
      ],
      "metadata": {
        "colab": {
          "base_uri": "https://localhost:8080/",
          "height": 265
        },
        "id": "Jd4L_K8JfSa-",
        "outputId": "172b619f-74ad-4088-870a-bd277974d931"
      },
      "execution_count": 18,
      "outputs": [
        {
          "output_type": "display_data",
          "data": {
            "text/plain": [
              "<Figure size 432x288 with 1 Axes>"
            ],
            "image/png": "[encoded data removed]"
          },
          "metadata": {
            "needs_background": "light"
          }
        }
      ]
    },
    {
      "cell_type": "code",
      "source": [
        "n = np.where(df['Annual Income (k$)']>120)\n",
        "print(n)"
      ],
      "metadata": {
        "colab": {
          "base_uri": "https://localhost:8080/"
        },
        "id": "T134BOTNftAA",
        "outputId": "308e503f-b485-446e-e8b2-bf2b130ce9ca"
      },
      "execution_count": 19,
      "outputs": [
        {
          "output_type": "stream",
          "name": "stdout",
          "text": [
            "(array([196, 197, 198, 199]),)\n"
          ]
        }
      ]
    },
    {
      "cell_type": "code",
      "source": [
        "plt.boxplot(n)\n",
        "plt.show()"
      ],
      "metadata": {
        "colab": {
          "base_uri": "https://localhost:8080/",
          "height": 265
        },
        "id": "XdyYcz47f12P",
        "outputId": "344dbbc9-4002-4098-8273-68f24c73aeef"
      },
      "execution_count": 20,
      "outputs": [
        {
          "output_type": "display_data",
          "data": {
            "text/plain": [
              "<Figure size 432x288 with 1 Axes>"
            ],
            "image/png": "[encoded data removed]"
          },
          "metadata": {
            "needs_background": "light"
          }
        }
      ]
    },
    {
      "cell_type": "markdown",
      "source": [
        "7. Check for Categorical columns and perform encoding."
      ],
      "metadata": {
        "id": "1FK-XKU8_4vi"
      }
    },
    {
      "cell_type": "code",
      "source": [
        "df_categorical = df['Gender']\n",
        "df_categorical.head()"
      ],
      "metadata": {
        "colab": {
          "base_uri": "https://localhost:8080/"
        },
        "id": "m3Jy0xCpf_jq",
        "outputId": "c5c2e5a5-12a9-464a-b9a1-29a5ddfeb5a1"
      },
      "execution_count": 21,
      "outputs": [
        {
          "output_type": "execute_result",
          "data": {
            "text/plain": [
              "0      Male\n",
              "1      Male\n",
              "2    Female\n",
              "3    Female\n",
              "4    Female\n",
              "Name: Gender, dtype: object"
            ]
          },
          "metadata": {},
          "execution_count": 21
        }
      ]
    },
    {
      "cell_type": "code",
      "source": [
        "print(df['Gender'].unique())"
      ],
      "metadata": {
        "colab": {
          "base_uri": "https://localhost:8080/"
        },
        "id": "vG9gitLZgJg5",
        "outputId": "4c465dd8-746a-4703-d5e7-f72ac4721bfe"
      },
      "execution_count": 22,
      "outputs": [
        {
          "output_type": "stream",
          "name": "stdout",
          "text": [
            "['Male' 'Female']\n"
          ]
        }
      ]
    },
    {
      "cell_type": "code",
      "source": [
        "from sklearn.preprocessing import LabelEncoder\n",
        "Gender_encoder = LabelEncoder()\n",
        "Gender_encoder.fit(df['Gender'])"
      ],
      "metadata": {
        "colab": {
          "base_uri": "https://localhost:8080/"
        },
        "id": "I-N-1JFugRDn",
        "outputId": "3d86c59f-6b7e-493c-c3ae-6eaed68a3080"
      },
      "execution_count": 23,
      "outputs": [
        {
          "output_type": "execute_result",
          "data": {
            "text/plain": [
              "LabelEncoder()"
            ]
          },
          "metadata": {},
          "execution_count": 23
        }
      ]
    },
    {
      "cell_type": "code",
      "source": [
        "Gender_value = Gender_encoder.transform(df_categorical)\n",
        "print(Gender_value[0:])"
      ],
      "metadata": {
        "colab": {
          "base_uri": "https://localhost:8080/"
        },
        "id": "iofBdWyggaxq",
        "outputId": "82954379-ca6b-4ca1-9b7e-87512dd49b15"
      },
      "execution_count": 24,
      "outputs": [
        {
          "output_type": "stream",
          "name": "stdout",
          "text": [
            "[1 1 0 0 0 0 0 0 1 0 1 0 0 0 1 1 0 1 1 0 1 1 0 1 0 1 0 1 0 0 1 0 1 1 0 0 0\n",
            " 0 0 0 0 1 1 0 0 0 0 0 0 0 0 1 0 1 0 1 0 1 0 1 1 1 0 0 1 1 0 0 1 0 1 0 0 0\n",
            " 1 1 0 1 0 0 1 1 1 0 0 1 0 0 0 0 0 1 1 0 0 1 0 0 1 1 0 0 1 1 1 0 0 1 1 1 1\n",
            " 0 0 1 0 0 0 0 0 0 1 0 0 1 0 0 1 1 1 1 1 1 0 0 1 0 0 1 1 0 0 1 0 0 1 1 1 0\n",
            " 0 1 1 1 0 0 0 0 1 0 1 0 0 0 1 0 1 0 1 0 0 1 1 1 1 1 0 0 1 1 1 1 0 0 1 0 0\n",
            " 1 0 1 0 0 0 0 1 0 0 0 0 1 1 1]\n"
          ]
        }
      ]
    },
    {
      "cell_type": "markdown",
      "source": [
        "8. Scale the data"
      ],
      "metadata": {
        "id": "aMzwfALtDLJa"
      }
    },
    {
      "cell_type": "code",
      "source": [
        "df.insert(0,\"Gender_values\",Gender_value)"
      ],
      "metadata": {
        "id": "waKlQNlIgmqr"
      },
      "execution_count": 28,
      "outputs": []
    },
    {
      "cell_type": "code",
      "source": [
        "from sklearn.preprocessing import StandardScaler\n",
        "scale = StandardScaler()\n",
        "X = df[['Age', 'Gender_values']]\n",
        "scaledX = scale.fit_transform(X)\n",
        "print(scaledX)"
      ],
      "metadata": {
        "colab": {
          "base_uri": "https://localhost:8080/"
        },
        "id": "WrlENz0YiYL6",
        "outputId": "628e4725-c4ad-4af1-d802-542bb69bc704"
      },
      "execution_count": 30,
      "outputs": [
        {
          "output_type": "stream",
          "name": "stdout",
          "text": [
            "[[-1.42456879  1.12815215]\n",
            " [-1.28103541  1.12815215]\n",
            " [-1.3528021  -0.88640526]\n",
            " [-1.13750203 -0.88640526]\n",
            " [-0.56336851 -0.88640526]\n",
            " [-1.20926872 -0.88640526]\n",
            " [-0.27630176 -0.88640526]\n",
            " [-1.13750203 -0.88640526]\n",
            " [ 1.80493225  1.12815215]\n",
            " [-0.6351352  -0.88640526]\n",
            " [ 2.02023231  1.12815215]\n",
            " [-0.27630176 -0.88640526]\n",
            " [ 1.37433211 -0.88640526]\n",
            " [-1.06573534 -0.88640526]\n",
            " [-0.13276838  1.12815215]\n",
            " [-1.20926872  1.12815215]\n",
            " [-0.27630176 -0.88640526]\n",
            " [-1.3528021   1.12815215]\n",
            " [ 0.94373197  1.12815215]\n",
            " [-0.27630176 -0.88640526]\n",
            " [-0.27630176  1.12815215]\n",
            " [-0.99396865  1.12815215]\n",
            " [ 0.51313183 -0.88640526]\n",
            " [-0.56336851  1.12815215]\n",
            " [ 1.08726535 -0.88640526]\n",
            " [-0.70690189  1.12815215]\n",
            " [ 0.44136514 -0.88640526]\n",
            " [-0.27630176  1.12815215]\n",
            " [ 0.08253169 -0.88640526]\n",
            " [-1.13750203 -0.88640526]\n",
            " [ 1.51786549  1.12815215]\n",
            " [-1.28103541 -0.88640526]\n",
            " [ 1.01549866  1.12815215]\n",
            " [-1.49633548  1.12815215]\n",
            " [ 0.7284319  -0.88640526]\n",
            " [-1.28103541 -0.88640526]\n",
            " [ 0.22606507 -0.88640526]\n",
            " [-0.6351352  -0.88640526]\n",
            " [-0.20453507 -0.88640526]\n",
            " [-1.3528021  -0.88640526]\n",
            " [ 1.87669894 -0.88640526]\n",
            " [-1.06573534  1.12815215]\n",
            " [ 0.65666521  1.12815215]\n",
            " [-0.56336851 -0.88640526]\n",
            " [ 0.7284319  -0.88640526]\n",
            " [-1.06573534 -0.88640526]\n",
            " [ 0.80019859 -0.88640526]\n",
            " [-0.85043527 -0.88640526]\n",
            " [-0.70690189 -0.88640526]\n",
            " [-0.56336851 -0.88640526]\n",
            " [ 0.7284319  -0.88640526]\n",
            " [-0.41983513  1.12815215]\n",
            " [-0.56336851 -0.88640526]\n",
            " [ 1.4460988   1.12815215]\n",
            " [ 0.80019859 -0.88640526]\n",
            " [ 0.58489852  1.12815215]\n",
            " [ 0.87196528 -0.88640526]\n",
            " [ 2.16376569  1.12815215]\n",
            " [-0.85043527 -0.88640526]\n",
            " [ 1.01549866  1.12815215]\n",
            " [ 2.23553238  1.12815215]\n",
            " [-1.42456879  1.12815215]\n",
            " [ 2.02023231 -0.88640526]\n",
            " [ 1.08726535 -0.88640526]\n",
            " [ 1.73316556  1.12815215]\n",
            " [-1.49633548  1.12815215]\n",
            " [ 0.29783176 -0.88640526]\n",
            " [ 2.091999   -0.88640526]\n",
            " [-1.42456879  1.12815215]\n",
            " [-0.49160182 -0.88640526]\n",
            " [ 2.23553238  1.12815215]\n",
            " [ 0.58489852 -0.88640526]\n",
            " [ 1.51786549 -0.88640526]\n",
            " [ 1.51786549 -0.88640526]\n",
            " [ 1.4460988   1.12815215]\n",
            " [-0.92220196  1.12815215]\n",
            " [ 0.44136514 -0.88640526]\n",
            " [ 0.08253169  1.12815215]\n",
            " [-1.13750203 -0.88640526]\n",
            " [ 0.7284319  -0.88640526]\n",
            " [ 1.30256542  1.12815215]\n",
            " [-0.06100169  1.12815215]\n",
            " [ 2.02023231  1.12815215]\n",
            " [ 0.51313183 -0.88640526]\n",
            " [-1.28103541 -0.88640526]\n",
            " [ 0.65666521  1.12815215]\n",
            " [ 1.15903204 -0.88640526]\n",
            " [-1.20926872 -0.88640526]\n",
            " [-0.34806844 -0.88640526]\n",
            " [ 0.80019859 -0.88640526]\n",
            " [ 2.091999   -0.88640526]\n",
            " [-1.49633548  1.12815215]\n",
            " [ 0.65666521  1.12815215]\n",
            " [ 0.08253169 -0.88640526]\n",
            " [-0.49160182 -0.88640526]\n",
            " [-1.06573534  1.12815215]\n",
            " [ 0.58489852 -0.88640526]\n",
            " [-0.85043527 -0.88640526]\n",
            " [ 0.65666521  1.12815215]\n",
            " [-1.3528021   1.12815215]\n",
            " [-1.13750203 -0.88640526]\n",
            " [ 0.7284319  -0.88640526]\n",
            " [ 2.02023231  1.12815215]\n",
            " [-0.92220196  1.12815215]\n",
            " [ 0.7284319   1.12815215]\n",
            " [-1.28103541 -0.88640526]\n",
            " [ 1.94846562 -0.88640526]\n",
            " [ 1.08726535  1.12815215]\n",
            " [ 2.091999    1.12815215]\n",
            " [ 1.94846562  1.12815215]\n",
            " [ 1.87669894  1.12815215]\n",
            " [-1.42456879 -0.88640526]\n",
            " [-0.06100169 -0.88640526]\n",
            " [-1.42456879  1.12815215]\n",
            " [-1.49633548 -0.88640526]\n",
            " [-1.42456879 -0.88640526]\n",
            " [ 1.73316556 -0.88640526]\n",
            " [ 0.7284319  -0.88640526]\n",
            " [ 0.87196528 -0.88640526]\n",
            " [ 0.80019859 -0.88640526]\n",
            " [-0.85043527  1.12815215]\n",
            " [-0.06100169 -0.88640526]\n",
            " [ 0.08253169 -0.88640526]\n",
            " [ 0.010765    1.12815215]\n",
            " [-1.13750203 -0.88640526]\n",
            " [-0.56336851 -0.88640526]\n",
            " [ 0.29783176  1.12815215]\n",
            " [ 0.08253169  1.12815215]\n",
            " [ 1.4460988   1.12815215]\n",
            " [-0.06100169  1.12815215]\n",
            " [ 0.58489852  1.12815215]\n",
            " [ 0.010765    1.12815215]\n",
            " [-0.99396865 -0.88640526]\n",
            " [-0.56336851 -0.88640526]\n",
            " [-1.3528021   1.12815215]\n",
            " [-0.70690189 -0.88640526]\n",
            " [ 0.36959845 -0.88640526]\n",
            " [-0.49160182  1.12815215]\n",
            " [-1.42456879  1.12815215]\n",
            " [-0.27630176 -0.88640526]\n",
            " [ 1.30256542 -0.88640526]\n",
            " [-0.49160182  1.12815215]\n",
            " [-0.77866858 -0.88640526]\n",
            " [-0.49160182 -0.88640526]\n",
            " [-0.99396865  1.12815215]\n",
            " [-0.77866858  1.12815215]\n",
            " [ 0.65666521  1.12815215]\n",
            " [-0.49160182 -0.88640526]\n",
            " [-0.34806844 -0.88640526]\n",
            " [-0.34806844  1.12815215]\n",
            " [ 0.29783176  1.12815215]\n",
            " [ 0.010765    1.12815215]\n",
            " [ 0.36959845 -0.88640526]\n",
            " [-0.06100169 -0.88640526]\n",
            " [ 0.58489852 -0.88640526]\n",
            " [-0.85043527 -0.88640526]\n",
            " [-0.13276838  1.12815215]\n",
            " [-0.6351352  -0.88640526]\n",
            " [-0.34806844  1.12815215]\n",
            " [-0.6351352  -0.88640526]\n",
            " [ 1.23079873 -0.88640526]\n",
            " [-0.70690189 -0.88640526]\n",
            " [-1.42456879  1.12815215]\n",
            " [-0.56336851 -0.88640526]\n",
            " [ 0.80019859  1.12815215]\n",
            " [-0.20453507 -0.88640526]\n",
            " [ 0.22606507  1.12815215]\n",
            " [-0.41983513 -0.88640526]\n",
            " [-0.20453507 -0.88640526]\n",
            " [-0.49160182  1.12815215]\n",
            " [ 0.08253169  1.12815215]\n",
            " [-0.77866858  1.12815215]\n",
            " [-0.20453507  1.12815215]\n",
            " [-0.20453507  1.12815215]\n",
            " [ 0.94373197 -0.88640526]\n",
            " [-0.6351352  -0.88640526]\n",
            " [ 1.37433211  1.12815215]\n",
            " [-0.85043527  1.12815215]\n",
            " [ 1.4460988   1.12815215]\n",
            " [-0.27630176  1.12815215]\n",
            " [-0.13276838 -0.88640526]\n",
            " [-0.49160182 -0.88640526]\n",
            " [ 0.51313183  1.12815215]\n",
            " [-0.70690189 -0.88640526]\n",
            " [ 0.15429838 -0.88640526]\n",
            " [-0.6351352   1.12815215]\n",
            " [ 1.08726535 -0.88640526]\n",
            " [-0.77866858  1.12815215]\n",
            " [ 0.15429838 -0.88640526]\n",
            " [-0.20453507 -0.88640526]\n",
            " [-0.34806844 -0.88640526]\n",
            " [-0.49160182 -0.88640526]\n",
            " [-0.41983513  1.12815215]\n",
            " [-0.06100169 -0.88640526]\n",
            " [ 0.58489852 -0.88640526]\n",
            " [-0.27630176 -0.88640526]\n",
            " [ 0.44136514 -0.88640526]\n",
            " [-0.49160182  1.12815215]\n",
            " [-0.49160182  1.12815215]\n",
            " [-0.6351352   1.12815215]]\n"
          ]
        }
      ]
    },
    {
      "cell_type": "markdown",
      "source": [
        "9. Perform any of the clustering algorithms"
      ],
      "metadata": {
        "id": "l9hezOVZitac"
      }
    },
    {
      "cell_type": "code",
      "source": [
        "x = df['Age']\n",
        "y = df['Annual Income (k$)']\n",
        "plt.scatter(x, y)\n",
        "plt.show()"
      ],
      "metadata": {
        "colab": {
          "base_uri": "https://localhost:8080/",
          "height": 265
        },
        "id": "StOtLaNkkXdb",
        "outputId": "9670abec-dd65-42bf-a93e-a4f9beac11f0"
      },
      "execution_count": 41,
      "outputs": [
        {
          "output_type": "display_data",
          "data": {
            "text/plain": [
              "<Figure size 432x288 with 1 Axes>"
            ],
            "image/png": "[encoded data removed]"
          },
          "metadata": {
            "needs_background": "light"
          }
        }
      ]
    },
    {
      "cell_type": "code",
      "source": [
        "from sklearn.cluster import KMeans\n",
        "data = list(zip(x, y))\n",
        "inertias = []\n",
        "for i in range(1,11):\n",
        "    kmeans = KMeans(n_clusters=i)\n",
        "    kmeans.fit(data)\n",
        "    inertias.append(kmeans.inertia_)\n",
        "plt.plot(range(1,11), inertias, marker='o')\n",
        "plt.title('Elbow method')\n",
        "plt.xlabel('Number of clusters')\n",
        "plt.ylabel('Inertia')\n",
        "plt.show()"
      ],
      "metadata": {
        "colab": {
          "base_uri": "https://localhost:8080/",
          "height": 295
        },
        "id": "hXT5CV7zkXrN",
        "outputId": "69401051-fe9d-4b60-cd7e-26e84db8fa30"
      },
      "execution_count": 42,
      "outputs": [
        {
          "output_type": "display_data",
          "data": {
            "text/plain": [
              "<Figure size 432x288 with 1 Axes>"
            ],
            "image/png": "[encoded data removed]"
          },
          "metadata": {
            "needs_background": "light"
          }
        }
      ]
    },
    {
      "cell_type": "code",
      "source": [
        "kmeans = KMeans(n_clusters=2)\n",
        "kmeans.fit(data)\n",
        "plt.scatter(x, y, c=kmeans.labels_)\n",
        "plt.show()"
      ],
      "metadata": {
        "colab": {
          "base_uri": "https://localhost:8080/",
          "height": 265
        },
        "id": "ZuuQGQWikX5M",
        "outputId": "9348d4f2-8e12-429c-99a1-b5f0054aed59"
      },
      "execution_count": 43,
      "outputs": [
        {
          "output_type": "display_data",
          "data": {
            "text/plain": [
              "<Figure size 432x288 with 1 Axes>"
            ],
            "image/png": "[encoded data removed]"
          },
          "metadata": {
            "needs_background": "light"
          }
        }
      ]
    },
    {
      "cell_type": "markdown",
      "source": [
        "# 11. Split the data into dependent and independent variables."
      ],
      "metadata": {
        "id": "RQAUs4Somroe"
      }
    },
    {
      "cell_type": "code",
      "source": [
        "X = df.iloc[:, 1:-1].values\n",
        "print(X)"
      ],
      "metadata": {
        "colab": {
          "base_uri": "https://localhost:8080/"
        },
        "id": "l333O9FCmuIp",
        "outputId": "4c224cb5-d39a-478e-918f-0ebac8d3274a"
      },
      "execution_count": 44,
      "outputs": [
        {
          "output_type": "stream",
          "name": "stdout",
          "text": [
            "[[1 'Male' 19 15]\n",
            " [2 'Male' 21 15]\n",
            " [3 'Female' 20 16]\n",
            " [4 'Female' 23 16]\n",
            " [5 'Female' 31 17]\n",
            " [6 'Female' 22 17]\n",
            " [7 'Female' 35 18]\n",
            " [8 'Female' 23 18]\n",
            " [9 'Male' 64 19]\n",
            " [10 'Female' 30 19]\n",
            " [11 'Male' 67 19]\n",
            " [12 'Female' 35 19]\n",
            " [13 'Female' 58 20]\n",
            " [14 'Female' 24 20]\n",
            " [15 'Male' 37 20]\n",
            " [16 'Male' 22 20]\n",
            " [17 'Female' 35 21]\n",
            " [18 'Male' 20 21]\n",
            " [19 'Male' 52 23]\n",
            " [20 'Female' 35 23]\n",
            " [21 'Male' 35 24]\n",
            " [22 'Male' 25 24]\n",
            " [23 'Female' 46 25]\n",
            " [24 'Male' 31 25]\n",
            " [25 'Female' 54 28]\n",
            " [26 'Male' 29 28]\n",
            " [27 'Female' 45 28]\n",
            " [28 'Male' 35 28]\n",
            " [29 'Female' 40 29]\n",
            " [30 'Female' 23 29]\n",
            " [31 'Male' 60 30]\n",
            " [32 'Female' 21 30]\n",
            " [33 'Male' 53 33]\n",
            " [34 'Male' 18 33]\n",
            " [35 'Female' 49 33]\n",
            " [36 'Female' 21 33]\n",
            " [37 'Female' 42 34]\n",
            " [38 'Female' 30 34]\n",
            " [39 'Female' 36 37]\n",
            " [40 'Female' 20 37]\n",
            " [41 'Female' 65 38]\n",
            " [42 'Male' 24 38]\n",
            " [43 'Male' 48 39]\n",
            " [44 'Female' 31 39]\n",
            " [45 'Female' 49 39]\n",
            " [46 'Female' 24 39]\n",
            " [47 'Female' 50 40]\n",
            " [48 'Female' 27 40]\n",
            " [49 'Female' 29 40]\n",
            " [50 'Female' 31 40]\n",
            " [51 'Female' 49 42]\n",
            " [52 'Male' 33 42]\n",
            " [53 'Female' 31 43]\n",
            " [54 'Male' 59 43]\n",
            " [55 'Female' 50 43]\n",
            " [56 'Male' 47 43]\n",
            " [57 'Female' 51 44]\n",
            " [58 'Male' 69 44]\n",
            " [59 'Female' 27 46]\n",
            " [60 'Male' 53 46]\n",
            " [61 'Male' 70 46]\n",
            " [62 'Male' 19 46]\n",
            " [63 'Female' 67 47]\n",
            " [64 'Female' 54 47]\n",
            " [65 'Male' 63 48]\n",
            " [66 'Male' 18 48]\n",
            " [67 'Female' 43 48]\n",
            " [68 'Female' 68 48]\n",
            " [69 'Male' 19 48]\n",
            " [70 'Female' 32 48]\n",
            " [71 'Male' 70 49]\n",
            " [72 'Female' 47 49]\n",
            " [73 'Female' 60 50]\n",
            " [74 'Female' 60 50]\n",
            " [75 'Male' 59 54]\n",
            " [76 'Male' 26 54]\n",
            " [77 'Female' 45 54]\n",
            " [78 'Male' 40 54]\n",
            " [79 'Female' 23 54]\n",
            " [80 'Female' 49 54]\n",
            " [81 'Male' 57 54]\n",
            " [82 'Male' 38 54]\n",
            " [83 'Male' 67 54]\n",
            " [84 'Female' 46 54]\n",
            " [85 'Female' 21 54]\n",
            " [86 'Male' 48 54]\n",
            " [87 'Female' 55 57]\n",
            " [88 'Female' 22 57]\n",
            " [89 'Female' 34 58]\n",
            " [90 'Female' 50 58]\n",
            " [91 'Female' 68 59]\n",
            " [92 'Male' 18 59]\n",
            " [93 'Male' 48 60]\n",
            " [94 'Female' 40 60]\n",
            " [95 'Female' 32 60]\n",
            " [96 'Male' 24 60]\n",
            " [97 'Female' 47 60]\n",
            " [98 'Female' 27 60]\n",
            " [99 'Male' 48 61]\n",
            " [100 'Male' 20 61]\n",
            " [101 'Female' 23 62]\n",
            " [102 'Female' 49 62]\n",
            " [103 'Male' 67 62]\n",
            " [104 'Male' 26 62]\n",
            " [105 'Male' 49 62]\n",
            " [106 'Female' 21 62]\n",
            " [107 'Female' 66 63]\n",
            " [108 'Male' 54 63]\n",
            " [109 'Male' 68 63]\n",
            " [110 'Male' 66 63]\n",
            " [111 'Male' 65 63]\n",
            " [112 'Female' 19 63]\n",
            " [113 'Female' 38 64]\n",
            " [114 'Male' 19 64]\n",
            " [115 'Female' 18 65]\n",
            " [116 'Female' 19 65]\n",
            " [117 'Female' 63 65]\n",
            " [118 'Female' 49 65]\n",
            " [119 'Female' 51 67]\n",
            " [120 'Female' 50 67]\n",
            " [121 'Male' 27 67]\n",
            " [122 'Female' 38 67]\n",
            " [123 'Female' 40 69]\n",
            " [124 'Male' 39 69]\n",
            " [125 'Female' 23 70]\n",
            " [126 'Female' 31 70]\n",
            " [127 'Male' 43 71]\n",
            " [128 'Male' 40 71]\n",
            " [129 'Male' 59 71]\n",
            " [130 'Male' 38 71]\n",
            " [131 'Male' 47 71]\n",
            " [132 'Male' 39 71]\n",
            " [133 'Female' 25 72]\n",
            " [134 'Female' 31 72]\n",
            " [135 'Male' 20 73]\n",
            " [136 'Female' 29 73]\n",
            " [137 'Female' 44 73]\n",
            " [138 'Male' 32 73]\n",
            " [139 'Male' 19 74]\n",
            " [140 'Female' 35 74]\n",
            " [141 'Female' 57 75]\n",
            " [142 'Male' 32 75]\n",
            " [143 'Female' 28 76]\n",
            " [144 'Female' 32 76]\n",
            " [145 'Male' 25 77]\n",
            " [146 'Male' 28 77]\n",
            " [147 'Male' 48 77]\n",
            " [148 'Female' 32 77]\n",
            " [149 'Female' 34 78]\n",
            " [150 'Male' 34 78]\n",
            " [151 'Male' 43 78]\n",
            " [152 'Male' 39 78]\n",
            " [153 'Female' 44 78]\n",
            " [154 'Female' 38 78]\n",
            " [155 'Female' 47 78]\n",
            " [156 'Female' 27 78]\n",
            " [157 'Male' 37 78]\n",
            " [158 'Female' 30 78]\n",
            " [159 'Male' 34 78]\n",
            " [160 'Female' 30 78]\n",
            " [161 'Female' 56 79]\n",
            " [162 'Female' 29 79]\n",
            " [163 'Male' 19 81]\n",
            " [164 'Female' 31 81]\n",
            " [165 'Male' 50 85]\n",
            " [166 'Female' 36 85]\n",
            " [167 'Male' 42 86]\n",
            " [168 'Female' 33 86]\n",
            " [169 'Female' 36 87]\n",
            " [170 'Male' 32 87]\n",
            " [171 'Male' 40 87]\n",
            " [172 'Male' 28 87]\n",
            " [173 'Male' 36 87]\n",
            " [174 'Male' 36 87]\n",
            " [175 'Female' 52 88]\n",
            " [176 'Female' 30 88]\n",
            " [177 'Male' 58 88]\n",
            " [178 'Male' 27 88]\n",
            " [179 'Male' 59 93]\n",
            " [180 'Male' 35 93]\n",
            " [181 'Female' 37 97]\n",
            " [182 'Female' 32 97]\n",
            " [183 'Male' 46 98]\n",
            " [184 'Female' 29 98]\n",
            " [185 'Female' 41 99]\n",
            " [186 'Male' 30 99]\n",
            " [187 'Female' 54 101]\n",
            " [188 'Male' 28 101]\n",
            " [189 'Female' 41 103]\n",
            " [190 'Female' 36 103]\n",
            " [191 'Female' 34 103]\n",
            " [192 'Female' 32 103]\n",
            " [193 'Male' 33 113]\n",
            " [194 'Female' 38 113]\n",
            " [195 'Female' 47 120]\n",
            " [196 'Female' 35 120]\n",
            " [197 'Female' 45 126]\n",
            " [198 'Male' 32 126]\n",
            " [199 'Male' 32 137]\n",
            " [200 'Male' 30 137]]\n"
          ]
        }
      ]
    },
    {
      "cell_type": "code",
      "source": [
        "Y = df.iloc[:, -1].values\n",
        "print(Y)"
      ],
      "metadata": {
        "colab": {
          "base_uri": "https://localhost:8080/"
        },
        "id": "L0jT2ey5m3Lu",
        "outputId": "1e045827-9150-4b65-bce2-fec1228ad8a0"
      },
      "execution_count": 45,
      "outputs": [
        {
          "output_type": "stream",
          "name": "stdout",
          "text": [
            "[39 81  6 77 40 76  6 94  3 72 14 99 15 77 13 79 35 66 29 98 35 73  5 73\n",
            " 14 82 32 61 31 87  4 73  4 92 14 81 17 73 26 75 35 92 36 61 28 65 55 47\n",
            " 42 42 52 60 54 60 45 41 50 46 51 46 56 55 52 59 51 59 50 48 59 47 55 42\n",
            " 49 56 47 54 53 48 52 42 51 55 41 44 57 46 58 55 60 46 55 41 49 40 42 52\n",
            " 47 50 42 49 41 48 59 55 56 42 50 46 43 48 52 54 42 46 48 50 43 59 43 57\n",
            " 56 40 58 91 29 77 35 95 11 75  9 75 34 71  5 88  7 73 10 72  5 93 40 87\n",
            " 12 97 36 74 22 90 17 88 20 76 16 89  1 78  1 73 35 83  5 93 26 75 20 95\n",
            " 27 63 13 75 10 92 13 86 15 69 14 90 32 86 15 88 39 97 24 68 17 85 23 69\n",
            "  8 91 16 79 28 74 18 83]\n"
          ]
        }
      ]
    },
    {
      "cell_type": "markdown",
      "source": [
        "12. Split the data into training and testing"
      ],
      "metadata": {
        "id": "a8JOjw6HnOhx"
      }
    },
    {
      "cell_type": "code",
      "source": [
        "from sklearn.model_selection import train_test_split\n",
        "A,B = train_test_split(df,test_size=0.30,random_state=42)"
      ],
      "metadata": {
        "id": "qGZp0fUtnRkj"
      },
      "execution_count": 46,
      "outputs": []
    },
    {
      "cell_type": "code",
      "source": [
        "A = pd.get_dummies(A)\n",
        "B = pd.get_dummies(B)\n",
        "A.shape"
      ],
      "metadata": {
        "colab": {
          "base_uri": "https://localhost:8080/"
        },
        "id": "6LfYFRQanZF1",
        "outputId": "6e4215ff-5b1e-4178-8184-c38986ed1085"
      },
      "execution_count": 47,
      "outputs": [
        {
          "output_type": "execute_result",
          "data": {
            "text/plain": [
              "(140, 7)"
            ]
          },
          "metadata": {},
          "execution_count": 47
        }
      ]
    },
    {
      "cell_type": "code",
      "source": [
        "B.shape"
      ],
      "metadata": {
        "colab": {
          "base_uri": "https://localhost:8080/"
        },
        "id": "vy6IYRUXncbS",
        "outputId": "f2f0e80d-b000-4061-ff0f-091c34f8e47d"
      },
      "execution_count": 48,
      "outputs": [
        {
          "output_type": "execute_result",
          "data": {
            "text/plain": [
              "(60, 7)"
            ]
          },
          "metadata": {},
          "execution_count": 48
        }
      ]
    },
    {
      "cell_type": "code",
      "source": [
        "x_train=A.drop('Age',axis=1)\n",
        "y_train=A[\"Age\"]\n",
        "x_test=B.drop('Age',axis=1)\n",
        "y_test=B[\"Age\"]"
      ],
      "metadata": {
        "id": "Czrqdg5fnpDn"
      },
      "execution_count": 49,
      "outputs": []
    },
    {
      "cell_type": "code",
      "source": [
        "x_train.shape"
      ],
      "metadata": {
        "colab": {
          "base_uri": "https://localhost:8080/"
        },
        "id": "TNsxaOhanpNj",
        "outputId": "cdf62f6c-de08-4578-ef81-28c9e164f949"
      },
      "execution_count": 50,
      "outputs": [
        {
          "output_type": "execute_result",
          "data": {
            "text/plain": [
              "(140, 6)"
            ]
          },
          "metadata": {},
          "execution_count": 50
        }
      ]
    },
    {
      "cell_type": "code",
      "source": [
        "y_train.shape"
      ],
      "metadata": {
        "colab": {
          "base_uri": "https://localhost:8080/"
        },
        "id": "4P28PfLznpjl",
        "outputId": "935352e6-f53a-4809-a36a-3f3b4356368d"
      },
      "execution_count": 51,
      "outputs": [
        {
          "output_type": "execute_result",
          "data": {
            "text/plain": [
              "(140,)"
            ]
          },
          "metadata": {},
          "execution_count": 51
        }
      ]
    },
    {
      "cell_type": "code",
      "source": [
        "x_test.shape"
      ],
      "metadata": {
        "colab": {
          "base_uri": "https://localhost:8080/"
        },
        "id": "QhHqVdCjnpwr",
        "outputId": "045b176c-06fb-47e1-b678-85a069dadaec"
      },
      "execution_count": 52,
      "outputs": [
        {
          "output_type": "execute_result",
          "data": {
            "text/plain": [
              "(60, 6)"
            ]
          },
          "metadata": {},
          "execution_count": 52
        }
      ]
    },
    {
      "cell_type": "code",
      "source": [
        "y_test.shape"
      ],
      "metadata": {
        "colab": {
          "base_uri": "https://localhost:8080/"
        },
        "id": "gVle4iXBnp-w",
        "outputId": "89a3dd19-76ff-4889-a12e-d8a94f419708"
      },
      "execution_count": 53,
      "outputs": [
        {
          "output_type": "execute_result",
          "data": {
            "text/plain": [
              "(60,)"
            ]
          },
          "metadata": {},
          "execution_count": 53
        }
      ]
    },
    {
      "cell_type": "markdown",
      "source": [
        "13. Build the Model"
      ],
      "metadata": {
        "id": "tpkbLQBVn6Nb"
      }
    },
    {
      "cell_type": "code",
      "source": [
        "from sklearn.linear_model import LinearRegression\n",
        "model = LinearRegression()\n"
      ],
      "metadata": {
        "id": "4O0mh6Ngn9Eh"
      },
      "execution_count": 54,
      "outputs": []
    },
    {
      "cell_type": "markdown",
      "source": [
        "14.Train the model"
      ],
      "metadata": {
        "id": "RCr57u9CobrN"
      }
    },
    {
      "cell_type": "code",
      "source": [
        "a = np.array(Gender_value).reshape(-1, 1)\n",
        "b = np.array(df['Age'])\n",
        "model.fit(a,b)"
      ],
      "metadata": {
        "colab": {
          "base_uri": "https://localhost:8080/"
        },
        "id": "uIjxHBylohxh",
        "outputId": "9c1c486d-df18-4831-aa1d-10de1a0dba1a"
      },
      "execution_count": 57,
      "outputs": [
        {
          "output_type": "execute_result",
          "data": {
            "text/plain": [
              "LinearRegression()"
            ]
          },
          "metadata": {},
          "execution_count": 57
        }
      ]
    },
    {
      "cell_type": "markdown",
      "source": [
        "15. Test the model"
      ],
      "metadata": {
        "id": "GsBc1vjrouFh"
      }
    },
    {
      "cell_type": "code",
      "source": [
        "y_train = np.array(y_train).reshape(-1,1)\n",
        "y_pred = model.predict(y_train)\n",
        "y_pred.shape"
      ],
      "metadata": {
        "colab": {
          "base_uri": "https://localhost:8080/"
        },
        "id": "Hs41iIarowhK",
        "outputId": "a8a33bab-5d1a-47f1-d42c-9279ef81ec8c"
      },
      "execution_count": 58,
      "outputs": [
        {
          "output_type": "execute_result",
          "data": {
            "text/plain": [
              "(140,)"
            ]
          },
          "metadata": {},
          "execution_count": 58
        }
      ]
    },
    {
      "cell_type": "markdown",
      "source": [
        "16. Measure the performance using Evaluation Metrics."
      ],
      "metadata": {
        "id": "dNBfMrTjo4fn"
      }
    },
    {
      "cell_type": "code",
      "source": [
        "from sklearn import metrics\n",
        "print(metrics.mean_absolute_error(y_train,y_pred))"
      ],
      "metadata": {
        "colab": {
          "base_uri": "https://localhost:8080/"
        },
        "id": "ksJ_In4Mo5WJ",
        "outputId": "f42a3a2b-29e8-4823-fcc7-80cb9e27c33c"
      },
      "execution_count": 59,
      "outputs": [
        {
          "output_type": "stream",
          "name": "stdout",
          "text": [
            "65.52624652133584\n"
          ]
        }
      ]
    },
    {
      "cell_type": "code",
      "source": [
        "print(metrics.mean_squared_error(y_train,y_pred))"
      ],
      "metadata": {
        "colab": {
          "base_uri": "https://localhost:8080/"
        },
        "id": "XQhLcDHlo5ln",
        "outputId": "73cba0d2-1ce0-4433-bf2d-1480384e2564"
      },
      "execution_count": 60,
      "outputs": [
        {
          "output_type": "stream",
          "name": "stdout",
          "text": [
            "4393.277183591211\n"
          ]
        }
      ]
    },
    {
      "cell_type": "code",
      "source": [
        "print(metrics.r2_score(y_train,y_pred))"
      ],
      "metadata": {
        "colab": {
          "base_uri": "https://localhost:8080/"
        },
        "id": "ucAXSrn-o5yz",
        "outputId": "bab9a936-995b-4a54-e3c9-e64b2e21a033"
      },
      "execution_count": 61,
      "outputs": [
        {
          "output_type": "stream",
          "name": "stdout",
          "text": [
            "-21.15071717946404\n"
          ]
        }
      ]
    }
  ]
}