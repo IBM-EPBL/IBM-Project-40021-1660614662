{
 "cells": [
  {
   "cell_type": "markdown",
   "id": "6dcfaf1c",
   "metadata": {},
   "source": [
    "# 1. Importing Necessary Modules"
   ]
  },
  {
   "cell_type": "code",
   "execution_count": 35,
   "id": "02d8b174",
   "metadata": {
    "scrolled": true
   },
   "outputs": [],
   "source": [
    "# importing necessary modules for this notebook\n",
    "\n",
    "import pandas as pd\n",
    "from sklearn.preprocessing import scale #for scaling\n",
    "from sklearn.model_selection import train_test_split # for train and test data split\n",
    "from sklearn.linear_model import LogisticRegression # for Logistic Regression Classification model\n",
    "from sklearn.metrics import accuracy_score,classification_report,confusion_matrix,roc_auc_score,roc_curve # for evaluation of classification models\n",
    "from sklearn.tree import DecisionTreeClassifier # for Decision Tree Classifier model\n",
    "from sklearn.ensemble import RandomForestClassifier # for Random Forest Classifier model\n",
    "from sklearn.tree import DecisionTreeClassifier # for Decision Tree Classifier model\n",
    "from sklearn.neighbors import KNeighborsClassifier # for K Neighbor Classifier model\n",
    "from sklearn.naive_bayes import GaussianNB # for Naive Bayes Classification model\n",
    "from sklearn.svm import SVC # for svm Classification model\n",
    "from sklearn.model_selection import GridSearchCV # for hyper parameter tuning using grid search method\n",
    "from imblearn.over_sampling import SMOTE # for data balancing using smote method"
   ]
  },
  {
   "cell_type": "markdown",
   "id": "745e05db",
   "metadata": {},
   "source": [
    "# 2. Loading The Preprocessed Data"
   ]
  },
  {
   "cell_type": "code",
   "execution_count": 25,
   "id": "40bb589e",
   "metadata": {},
   "outputs": [
    {
     "data": {
      "text/plain": [
       "(583, 10)"
      ]
     },
     "execution_count": 25,
     "metadata": {},
     "output_type": "execute_result"
    }
   ],
   "source": [
    "# Loading the preprocessed dataser \"Preprocessed_Data\"\n",
    "\n",
    "data=pd.read_csv(\"Preprocessed_Data.csv\")\n",
    "\n",
    "# Dataset Features\n",
    "\n",
    "data.shape"
   ]
  },
  {
   "cell_type": "code",
   "execution_count": 26,
   "id": "e51122b0",
   "metadata": {},
   "outputs": [
    {
     "data": {
      "text/html": [
       "<div>\n",
       "<style scoped>\n",
       "    .dataframe tbody tr th:only-of-type {\n",
       "        vertical-align: middle;\n",
       "    }\n",
       "\n",
       "    .dataframe tbody tr th {\n",
       "        vertical-align: top;\n",
       "    }\n",
       "\n",
       "    .dataframe thead th {\n",
       "        text-align: right;\n",
       "    }\n",
       "</style>\n",
       "<table border=\"1\" class=\"dataframe\">\n",
       "  <thead>\n",
       "    <tr style=\"text-align: right;\">\n",
       "      <th></th>\n",
       "      <th>Age</th>\n",
       "      <th>Gender</th>\n",
       "      <th>Total_Bilirubin</th>\n",
       "      <th>Alkaline_Phosphotase</th>\n",
       "      <th>Alamine_Aminotransferase</th>\n",
       "      <th>Aspartate_Aminotransferase</th>\n",
       "      <th>Total_Protiens</th>\n",
       "      <th>Albumin</th>\n",
       "      <th>Albumin_and_Globulin_Ratio</th>\n",
       "      <th>Dataset</th>\n",
       "    </tr>\n",
       "  </thead>\n",
       "  <tbody>\n",
       "    <tr>\n",
       "      <th>0</th>\n",
       "      <td>65</td>\n",
       "      <td>0</td>\n",
       "      <td>0.7</td>\n",
       "      <td>187</td>\n",
       "      <td>16</td>\n",
       "      <td>18</td>\n",
       "      <td>6.8</td>\n",
       "      <td>3.3</td>\n",
       "      <td>0.90</td>\n",
       "      <td>1</td>\n",
       "    </tr>\n",
       "    <tr>\n",
       "      <th>1</th>\n",
       "      <td>62</td>\n",
       "      <td>1</td>\n",
       "      <td>1.0</td>\n",
       "      <td>208</td>\n",
       "      <td>64</td>\n",
       "      <td>100</td>\n",
       "      <td>7.5</td>\n",
       "      <td>3.2</td>\n",
       "      <td>0.74</td>\n",
       "      <td>1</td>\n",
       "    </tr>\n",
       "    <tr>\n",
       "      <th>2</th>\n",
       "      <td>62</td>\n",
       "      <td>1</td>\n",
       "      <td>1.0</td>\n",
       "      <td>208</td>\n",
       "      <td>60</td>\n",
       "      <td>68</td>\n",
       "      <td>7.0</td>\n",
       "      <td>3.3</td>\n",
       "      <td>0.89</td>\n",
       "      <td>1</td>\n",
       "    </tr>\n",
       "    <tr>\n",
       "      <th>3</th>\n",
       "      <td>58</td>\n",
       "      <td>1</td>\n",
       "      <td>1.0</td>\n",
       "      <td>182</td>\n",
       "      <td>14</td>\n",
       "      <td>20</td>\n",
       "      <td>6.8</td>\n",
       "      <td>3.4</td>\n",
       "      <td>1.00</td>\n",
       "      <td>1</td>\n",
       "    </tr>\n",
       "    <tr>\n",
       "      <th>4</th>\n",
       "      <td>72</td>\n",
       "      <td>1</td>\n",
       "      <td>1.0</td>\n",
       "      <td>195</td>\n",
       "      <td>27</td>\n",
       "      <td>59</td>\n",
       "      <td>7.3</td>\n",
       "      <td>2.4</td>\n",
       "      <td>0.40</td>\n",
       "      <td>1</td>\n",
       "    </tr>\n",
       "  </tbody>\n",
       "</table>\n",
       "</div>"
      ],
      "text/plain": [
       "   Age  Gender  Total_Bilirubin  Alkaline_Phosphotase  \\\n",
       "0   65       0              0.7                   187   \n",
       "1   62       1              1.0                   208   \n",
       "2   62       1              1.0                   208   \n",
       "3   58       1              1.0                   182   \n",
       "4   72       1              1.0                   195   \n",
       "\n",
       "   Alamine_Aminotransferase  Aspartate_Aminotransferase  Total_Protiens  \\\n",
       "0                        16                          18             6.8   \n",
       "1                        64                         100             7.5   \n",
       "2                        60                          68             7.0   \n",
       "3                        14                          20             6.8   \n",
       "4                        27                          59             7.3   \n",
       "\n",
       "   Albumin  Albumin_and_Globulin_Ratio  Dataset  \n",
       "0      3.3                        0.90        1  \n",
       "1      3.2                        0.74        1  \n",
       "2      3.3                        0.89        1  \n",
       "3      3.4                        1.00        1  \n",
       "4      2.4                        0.40        1  "
      ]
     },
     "execution_count": 26,
     "metadata": {},
     "output_type": "execute_result"
    }
   ],
   "source": [
    "data.head()"
   ]
  },
  {
   "cell_type": "markdown",
   "id": "f62294d4",
   "metadata": {},
   "source": [
    "# 3. X and y split"
   ]
  },
  {
   "cell_type": "code",
   "execution_count": 27,
   "id": "c95cddaf",
   "metadata": {},
   "outputs": [
    {
     "data": {
      "text/plain": [
       "0    1\n",
       "1    1\n",
       "2    1\n",
       "3    1\n",
       "4    1\n",
       "Name: Dataset, dtype: int64"
      ]
     },
     "execution_count": 27,
     "metadata": {},
     "output_type": "execute_result"
    }
   ],
   "source": [
    "# splitting the data into independent and target variables X and y repectively\n",
    "\n",
    "# storing Target column \"Dataset\" in y\n",
    "y=data['Dataset']\n",
    "y.head()"
   ]
  },
  {
   "cell_type": "code",
   "execution_count": 29,
   "id": "4be816dd",
   "metadata": {},
   "outputs": [
    {
     "data": {
      "text/html": [
       "<div>\n",
       "<style scoped>\n",
       "    .dataframe tbody tr th:only-of-type {\n",
       "        vertical-align: middle;\n",
       "    }\n",
       "\n",
       "    .dataframe tbody tr th {\n",
       "        vertical-align: top;\n",
       "    }\n",
       "\n",
       "    .dataframe thead th {\n",
       "        text-align: right;\n",
       "    }\n",
       "</style>\n",
       "<table border=\"1\" class=\"dataframe\">\n",
       "  <thead>\n",
       "    <tr style=\"text-align: right;\">\n",
       "      <th></th>\n",
       "      <th>Age</th>\n",
       "      <th>Gender</th>\n",
       "      <th>Total_Bilirubin</th>\n",
       "      <th>Alkaline_Phosphotase</th>\n",
       "      <th>Alamine_Aminotransferase</th>\n",
       "      <th>Aspartate_Aminotransferase</th>\n",
       "      <th>Total_Protiens</th>\n",
       "      <th>Albumin</th>\n",
       "      <th>Albumin_and_Globulin_Ratio</th>\n",
       "    </tr>\n",
       "  </thead>\n",
       "  <tbody>\n",
       "    <tr>\n",
       "      <th>0</th>\n",
       "      <td>65</td>\n",
       "      <td>0</td>\n",
       "      <td>0.7</td>\n",
       "      <td>187</td>\n",
       "      <td>16</td>\n",
       "      <td>18</td>\n",
       "      <td>6.8</td>\n",
       "      <td>3.3</td>\n",
       "      <td>0.90</td>\n",
       "    </tr>\n",
       "    <tr>\n",
       "      <th>1</th>\n",
       "      <td>62</td>\n",
       "      <td>1</td>\n",
       "      <td>1.0</td>\n",
       "      <td>208</td>\n",
       "      <td>64</td>\n",
       "      <td>100</td>\n",
       "      <td>7.5</td>\n",
       "      <td>3.2</td>\n",
       "      <td>0.74</td>\n",
       "    </tr>\n",
       "    <tr>\n",
       "      <th>2</th>\n",
       "      <td>62</td>\n",
       "      <td>1</td>\n",
       "      <td>1.0</td>\n",
       "      <td>208</td>\n",
       "      <td>60</td>\n",
       "      <td>68</td>\n",
       "      <td>7.0</td>\n",
       "      <td>3.3</td>\n",
       "      <td>0.89</td>\n",
       "    </tr>\n",
       "    <tr>\n",
       "      <th>3</th>\n",
       "      <td>58</td>\n",
       "      <td>1</td>\n",
       "      <td>1.0</td>\n",
       "      <td>182</td>\n",
       "      <td>14</td>\n",
       "      <td>20</td>\n",
       "      <td>6.8</td>\n",
       "      <td>3.4</td>\n",
       "      <td>1.00</td>\n",
       "    </tr>\n",
       "    <tr>\n",
       "      <th>4</th>\n",
       "      <td>72</td>\n",
       "      <td>1</td>\n",
       "      <td>1.0</td>\n",
       "      <td>195</td>\n",
       "      <td>27</td>\n",
       "      <td>59</td>\n",
       "      <td>7.3</td>\n",
       "      <td>2.4</td>\n",
       "      <td>0.40</td>\n",
       "    </tr>\n",
       "  </tbody>\n",
       "</table>\n",
       "</div>"
      ],
      "text/plain": [
       "   Age  Gender  Total_Bilirubin  Alkaline_Phosphotase  \\\n",
       "0   65       0              0.7                   187   \n",
       "1   62       1              1.0                   208   \n",
       "2   62       1              1.0                   208   \n",
       "3   58       1              1.0                   182   \n",
       "4   72       1              1.0                   195   \n",
       "\n",
       "   Alamine_Aminotransferase  Aspartate_Aminotransferase  Total_Protiens  \\\n",
       "0                        16                          18             6.8   \n",
       "1                        64                         100             7.5   \n",
       "2                        60                          68             7.0   \n",
       "3                        14                          20             6.8   \n",
       "4                        27                          59             7.3   \n",
       "\n",
       "   Albumin  Albumin_and_Globulin_Ratio  \n",
       "0      3.3                        0.90  \n",
       "1      3.2                        0.74  \n",
       "2      3.3                        0.89  \n",
       "3      3.4                        1.00  \n",
       "4      2.4                        0.40  "
      ]
     },
     "execution_count": 29,
     "metadata": {},
     "output_type": "execute_result"
    }
   ],
   "source": [
    "# storing independent columns in X\n",
    "X=data.drop(columns=['Dataset'],axis=1)\n",
    "X.head()"
   ]
  },
  {
   "cell_type": "markdown",
   "id": "eb7d0975",
   "metadata": {},
   "source": [
    "# 4. Scaling the X values"
   ]
  },
  {
   "cell_type": "code",
   "execution_count": 39,
   "id": "81a85739",
   "metadata": {},
   "outputs": [
    {
     "data": {
      "text/html": [
       "<div>\n",
       "<style scoped>\n",
       "    .dataframe tbody tr th:only-of-type {\n",
       "        vertical-align: middle;\n",
       "    }\n",
       "\n",
       "    .dataframe tbody tr th {\n",
       "        vertical-align: top;\n",
       "    }\n",
       "\n",
       "    .dataframe thead th {\n",
       "        text-align: right;\n",
       "    }\n",
       "</style>\n",
       "<table border=\"1\" class=\"dataframe\">\n",
       "  <thead>\n",
       "    <tr style=\"text-align: right;\">\n",
       "      <th></th>\n",
       "      <th>Age</th>\n",
       "      <th>Gender</th>\n",
       "      <th>Total_Bilirubin</th>\n",
       "      <th>Alkaline_Phosphotase</th>\n",
       "      <th>Alamine_Aminotransferase</th>\n",
       "      <th>Aspartate_Aminotransferase</th>\n",
       "      <th>Total_Protiens</th>\n",
       "      <th>Albumin</th>\n",
       "      <th>Albumin_and_Globulin_Ratio</th>\n",
       "    </tr>\n",
       "  </thead>\n",
       "  <tbody>\n",
       "    <tr>\n",
       "      <th>0</th>\n",
       "      <td>1.252098</td>\n",
       "      <td>-1.762281</td>\n",
       "      <td>-1.322873</td>\n",
       "      <td>-0.996681</td>\n",
       "      <td>-0.354665</td>\n",
       "      <td>-0.905540</td>\n",
       "      <td>0.287534</td>\n",
       "      <td>0.198969</td>\n",
       "      <td>-0.099436</td>\n",
       "    </tr>\n",
       "    <tr>\n",
       "      <th>1</th>\n",
       "      <td>1.066637</td>\n",
       "      <td>0.567446</td>\n",
       "      <td>0.723650</td>\n",
       "      <td>-0.241023</td>\n",
       "      <td>-0.091599</td>\n",
       "      <td>1.473568</td>\n",
       "      <td>0.976568</td>\n",
       "      <td>0.073157</td>\n",
       "      <td>-0.673765</td>\n",
       "    </tr>\n",
       "    <tr>\n",
       "      <th>2</th>\n",
       "      <td>1.066637</td>\n",
       "      <td>0.567446</td>\n",
       "      <td>0.723650</td>\n",
       "      <td>-0.241023</td>\n",
       "      <td>-0.113522</td>\n",
       "      <td>0.545135</td>\n",
       "      <td>0.484401</td>\n",
       "      <td>0.198969</td>\n",
       "      <td>-0.135332</td>\n",
       "    </tr>\n",
       "    <tr>\n",
       "      <th>3</th>\n",
       "      <td>0.819356</td>\n",
       "      <td>0.567446</td>\n",
       "      <td>0.723650</td>\n",
       "      <td>-1.176600</td>\n",
       "      <td>-0.365626</td>\n",
       "      <td>-0.847513</td>\n",
       "      <td>0.287534</td>\n",
       "      <td>0.324781</td>\n",
       "      <td>0.259519</td>\n",
       "    </tr>\n",
       "    <tr>\n",
       "      <th>4</th>\n",
       "      <td>1.684839</td>\n",
       "      <td>0.567446</td>\n",
       "      <td>0.723650</td>\n",
       "      <td>-0.708811</td>\n",
       "      <td>-0.294379</td>\n",
       "      <td>0.284014</td>\n",
       "      <td>0.779701</td>\n",
       "      <td>-0.933340</td>\n",
       "      <td>-1.894214</td>\n",
       "    </tr>\n",
       "  </tbody>\n",
       "</table>\n",
       "</div>"
      ],
      "text/plain": [
       "        Age    Gender  Total_Bilirubin  Alkaline_Phosphotase  \\\n",
       "0  1.252098 -1.762281        -1.322873             -0.996681   \n",
       "1  1.066637  0.567446         0.723650             -0.241023   \n",
       "2  1.066637  0.567446         0.723650             -0.241023   \n",
       "3  0.819356  0.567446         0.723650             -1.176600   \n",
       "4  1.684839  0.567446         0.723650             -0.708811   \n",
       "\n",
       "   Alamine_Aminotransferase  Aspartate_Aminotransferase  Total_Protiens  \\\n",
       "0                 -0.354665                   -0.905540        0.287534   \n",
       "1                 -0.091599                    1.473568        0.976568   \n",
       "2                 -0.113522                    0.545135        0.484401   \n",
       "3                 -0.365626                   -0.847513        0.287534   \n",
       "4                 -0.294379                    0.284014        0.779701   \n",
       "\n",
       "    Albumin  Albumin_and_Globulin_Ratio  \n",
       "0  0.198969                   -0.099436  \n",
       "1  0.073157                   -0.673765  \n",
       "2  0.198969                   -0.135332  \n",
       "3  0.324781                    0.259519  \n",
       "4 -0.933340                   -1.894214  "
      ]
     },
     "execution_count": 39,
     "metadata": {},
     "output_type": "execute_result"
    }
   ],
   "source": [
    "# scaling the X values using standardization technique\n",
    "\n",
    "X_scaled=pd.DataFrame(scale(X),columns=X.columns)\n",
    "X_scaled.head()"
   ]
  },
  {
   "cell_type": "markdown",
   "id": "5f4f07e2",
   "metadata": {},
   "source": [
    "# 5. Test and Train Split"
   ]
  },
  {
   "cell_type": "code",
   "execution_count": 41,
   "id": "e22d8326",
   "metadata": {},
   "outputs": [],
   "source": [
    "# splitting the data into train and test dataset into 7:3 ratio\n",
    "\n",
    "X_train,X_test,y_train,y_test=train_test_split(X_scaled,y,test_size=0.3,random_state=0)"
   ]
  },
  {
   "cell_type": "code",
   "execution_count": 42,
   "id": "30a56931",
   "metadata": {},
   "outputs": [
    {
     "data": {
      "text/html": [
       "<div>\n",
       "<style scoped>\n",
       "    .dataframe tbody tr th:only-of-type {\n",
       "        vertical-align: middle;\n",
       "    }\n",
       "\n",
       "    .dataframe tbody tr th {\n",
       "        vertical-align: top;\n",
       "    }\n",
       "\n",
       "    .dataframe thead th {\n",
       "        text-align: right;\n",
       "    }\n",
       "</style>\n",
       "<table border=\"1\" class=\"dataframe\">\n",
       "  <thead>\n",
       "    <tr style=\"text-align: right;\">\n",
       "      <th></th>\n",
       "      <th>Age</th>\n",
       "      <th>Gender</th>\n",
       "      <th>Total_Bilirubin</th>\n",
       "      <th>Alkaline_Phosphotase</th>\n",
       "      <th>Alamine_Aminotransferase</th>\n",
       "      <th>Aspartate_Aminotransferase</th>\n",
       "      <th>Total_Protiens</th>\n",
       "      <th>Albumin</th>\n",
       "      <th>Albumin_and_Globulin_Ratio</th>\n",
       "    </tr>\n",
       "  </thead>\n",
       "  <tbody>\n",
       "    <tr>\n",
       "      <th>271</th>\n",
       "      <td>-2.518935</td>\n",
       "      <td>0.567446</td>\n",
       "      <td>-0.640699</td>\n",
       "      <td>-0.241023</td>\n",
       "      <td>0.390688</td>\n",
       "      <td>-0.209216</td>\n",
       "      <td>-0.007767</td>\n",
       "      <td>0.073157</td>\n",
       "      <td>-0.099436</td>\n",
       "    </tr>\n",
       "    <tr>\n",
       "      <th>318</th>\n",
       "      <td>-0.417048</td>\n",
       "      <td>0.567446</td>\n",
       "      <td>0.723650</td>\n",
       "      <td>0.046847</td>\n",
       "      <td>0.538663</td>\n",
       "      <td>-0.209216</td>\n",
       "      <td>1.271869</td>\n",
       "      <td>1.708714</td>\n",
       "      <td>1.336386</td>\n",
       "    </tr>\n",
       "    <tr>\n",
       "      <th>552</th>\n",
       "      <td>0.015694</td>\n",
       "      <td>0.567446</td>\n",
       "      <td>-2.005047</td>\n",
       "      <td>-0.672828</td>\n",
       "      <td>-0.283418</td>\n",
       "      <td>-0.557378</td>\n",
       "      <td>-0.696801</td>\n",
       "      <td>-0.304280</td>\n",
       "      <td>0.259519</td>\n",
       "    </tr>\n",
       "    <tr>\n",
       "      <th>579</th>\n",
       "      <td>-0.293407</td>\n",
       "      <td>0.567446</td>\n",
       "      <td>-2.005047</td>\n",
       "      <td>-0.241023</td>\n",
       "      <td>-0.250535</td>\n",
       "      <td>-0.528364</td>\n",
       "      <td>-0.499934</td>\n",
       "      <td>0.073157</td>\n",
       "      <td>0.618475</td>\n",
       "    </tr>\n",
       "    <tr>\n",
       "      <th>196</th>\n",
       "      <td>0.942997</td>\n",
       "      <td>0.567446</td>\n",
       "      <td>0.775135</td>\n",
       "      <td>-0.241023</td>\n",
       "      <td>-0.157366</td>\n",
       "      <td>1.589622</td>\n",
       "      <td>-0.499934</td>\n",
       "      <td>-1.310776</td>\n",
       "      <td>-1.427572</td>\n",
       "    </tr>\n",
       "  </tbody>\n",
       "</table>\n",
       "</div>"
      ],
      "text/plain": [
       "          Age    Gender  Total_Bilirubin  Alkaline_Phosphotase  \\\n",
       "271 -2.518935  0.567446        -0.640699             -0.241023   \n",
       "318 -0.417048  0.567446         0.723650              0.046847   \n",
       "552  0.015694  0.567446        -2.005047             -0.672828   \n",
       "579 -0.293407  0.567446        -2.005047             -0.241023   \n",
       "196  0.942997  0.567446         0.775135             -0.241023   \n",
       "\n",
       "     Alamine_Aminotransferase  Aspartate_Aminotransferase  Total_Protiens  \\\n",
       "271                  0.390688                   -0.209216       -0.007767   \n",
       "318                  0.538663                   -0.209216        1.271869   \n",
       "552                 -0.283418                   -0.557378       -0.696801   \n",
       "579                 -0.250535                   -0.528364       -0.499934   \n",
       "196                 -0.157366                    1.589622       -0.499934   \n",
       "\n",
       "      Albumin  Albumin_and_Globulin_Ratio  \n",
       "271  0.073157                   -0.099436  \n",
       "318  1.708714                    1.336386  \n",
       "552 -0.304280                    0.259519  \n",
       "579  0.073157                    0.618475  \n",
       "196 -1.310776                   -1.427572  "
      ]
     },
     "execution_count": 42,
     "metadata": {},
     "output_type": "execute_result"
    }
   ],
   "source": [
    "X_train.head()"
   ]
  },
  {
   "cell_type": "code",
   "execution_count": 44,
   "id": "43591e3b",
   "metadata": {},
   "outputs": [
    {
     "data": {
      "text/html": [
       "<div>\n",
       "<style scoped>\n",
       "    .dataframe tbody tr th:only-of-type {\n",
       "        vertical-align: middle;\n",
       "    }\n",
       "\n",
       "    .dataframe tbody tr th {\n",
       "        vertical-align: top;\n",
       "    }\n",
       "\n",
       "    .dataframe thead th {\n",
       "        text-align: right;\n",
       "    }\n",
       "</style>\n",
       "<table border=\"1\" class=\"dataframe\">\n",
       "  <thead>\n",
       "    <tr style=\"text-align: right;\">\n",
       "      <th></th>\n",
       "      <th>Age</th>\n",
       "      <th>Gender</th>\n",
       "      <th>Total_Bilirubin</th>\n",
       "      <th>Alkaline_Phosphotase</th>\n",
       "      <th>Alamine_Aminotransferase</th>\n",
       "      <th>Aspartate_Aminotransferase</th>\n",
       "      <th>Total_Protiens</th>\n",
       "      <th>Albumin</th>\n",
       "      <th>Albumin_and_Globulin_Ratio</th>\n",
       "    </tr>\n",
       "  </thead>\n",
       "  <tbody>\n",
       "    <tr>\n",
       "      <th>246</th>\n",
       "      <td>0.633896</td>\n",
       "      <td>0.567446</td>\n",
       "      <td>0.775135</td>\n",
       "      <td>2.061935</td>\n",
       "      <td>-0.321782</td>\n",
       "      <td>0.864284</td>\n",
       "      <td>-0.401501</td>\n",
       "      <td>-0.555904</td>\n",
       "      <td>-0.817347</td>\n",
       "    </tr>\n",
       "    <tr>\n",
       "      <th>92</th>\n",
       "      <td>0.942997</td>\n",
       "      <td>0.567446</td>\n",
       "      <td>0.723650</td>\n",
       "      <td>2.997512</td>\n",
       "      <td>1.815630</td>\n",
       "      <td>-0.209216</td>\n",
       "      <td>0.878135</td>\n",
       "      <td>-0.178468</td>\n",
       "      <td>-1.176303</td>\n",
       "    </tr>\n",
       "    <tr>\n",
       "      <th>386</th>\n",
       "      <td>-0.417048</td>\n",
       "      <td>0.567446</td>\n",
       "      <td>0.723650</td>\n",
       "      <td>-0.241023</td>\n",
       "      <td>-0.305341</td>\n",
       "      <td>-0.818499</td>\n",
       "      <td>0.976568</td>\n",
       "      <td>1.331277</td>\n",
       "      <td>0.977431</td>\n",
       "    </tr>\n",
       "    <tr>\n",
       "      <th>186</th>\n",
       "      <td>0.942997</td>\n",
       "      <td>0.567446</td>\n",
       "      <td>0.723650</td>\n",
       "      <td>-0.241023</td>\n",
       "      <td>-0.009391</td>\n",
       "      <td>2.779175</td>\n",
       "      <td>1.271869</td>\n",
       "      <td>0.073157</td>\n",
       "      <td>-0.853243</td>\n",
       "    </tr>\n",
       "    <tr>\n",
       "      <th>389</th>\n",
       "      <td>1.684839</td>\n",
       "      <td>0.567446</td>\n",
       "      <td>-2.005047</td>\n",
       "      <td>-0.241023</td>\n",
       "      <td>-0.272457</td>\n",
       "      <td>-0.412310</td>\n",
       "      <td>-0.204634</td>\n",
       "      <td>0.073157</td>\n",
       "      <td>0.259519</td>\n",
       "    </tr>\n",
       "  </tbody>\n",
       "</table>\n",
       "</div>"
      ],
      "text/plain": [
       "          Age    Gender  Total_Bilirubin  Alkaline_Phosphotase  \\\n",
       "246  0.633896  0.567446         0.775135              2.061935   \n",
       "92   0.942997  0.567446         0.723650              2.997512   \n",
       "386 -0.417048  0.567446         0.723650             -0.241023   \n",
       "186  0.942997  0.567446         0.723650             -0.241023   \n",
       "389  1.684839  0.567446        -2.005047             -0.241023   \n",
       "\n",
       "     Alamine_Aminotransferase  Aspartate_Aminotransferase  Total_Protiens  \\\n",
       "246                 -0.321782                    0.864284       -0.401501   \n",
       "92                   1.815630                   -0.209216        0.878135   \n",
       "386                 -0.305341                   -0.818499        0.976568   \n",
       "186                 -0.009391                    2.779175        1.271869   \n",
       "389                 -0.272457                   -0.412310       -0.204634   \n",
       "\n",
       "      Albumin  Albumin_and_Globulin_Ratio  \n",
       "246 -0.555904                   -0.817347  \n",
       "92  -0.178468                   -1.176303  \n",
       "386  1.331277                    0.977431  \n",
       "186  0.073157                   -0.853243  \n",
       "389  0.073157                    0.259519  "
      ]
     },
     "execution_count": 44,
     "metadata": {},
     "output_type": "execute_result"
    }
   ],
   "source": [
    "X_test.head()"
   ]
  },
  {
   "cell_type": "code",
   "execution_count": 46,
   "id": "49c463f1",
   "metadata": {},
   "outputs": [
    {
     "data": {
      "text/plain": [
       "271    2\n",
       "318    1\n",
       "552    1\n",
       "579    1\n",
       "196    1\n",
       "Name: Dataset, dtype: int64"
      ]
     },
     "execution_count": 46,
     "metadata": {},
     "output_type": "execute_result"
    }
   ],
   "source": [
    "y_train.head()"
   ]
  },
  {
   "cell_type": "code",
   "execution_count": 55,
   "id": "e07a0ca7",
   "metadata": {},
   "outputs": [
    {
     "data": {
      "text/plain": [
       "246    1\n",
       "92     1\n",
       "386    2\n",
       "186    1\n",
       "389    1\n",
       "Name: Dataset, dtype: int64"
      ]
     },
     "execution_count": 55,
     "metadata": {},
     "output_type": "execute_result"
    }
   ],
   "source": [
    "y_test.head()"
   ]
  },
  {
   "cell_type": "markdown",
   "id": "6cd137b7",
   "metadata": {},
   "source": [
    "# 6. Balancing the data"
   ]
  },
  {
   "cell_type": "code",
   "execution_count": 59,
   "id": "7a86d2ea",
   "metadata": {},
   "outputs": [],
   "source": [
    "# Balncing the train data using smote method\n",
    "\n",
    "smote=SMOTE()\n",
    "\n",
    "X_train_smote,y_train_smote=smote.fit_resample(X_train,y_train)\n"
   ]
  },
  {
   "cell_type": "markdown",
   "id": "77364f07",
   "metadata": {},
   "source": [
    "# 7. Training and Testing the model"
   ]
  },
  {
   "cell_type": "code",
   "execution_count": 53,
   "id": "330e1c5d",
   "metadata": {},
   "outputs": [],
   "source": [
    "# The algorithms used in this model are\n",
    "\n",
    "#  1.logistic regression\n",
    "#  2.decision tree model\n",
    "#  3.Random forest model\n",
    "#  4.KNN\n",
    "#  5.Naive Bayes\n",
    "#  6.svm\n"
   ]
  },
  {
   "cell_type": "markdown",
   "id": "5e74fa65",
   "metadata": {},
   "source": [
    "# 7.1. Logistic Regression Algorithm "
   ]
  },
  {
   "cell_type": "code",
   "execution_count": 60,
   "id": "f3c2685d",
   "metadata": {},
   "outputs": [],
   "source": [
    "#initializing the model\n",
    "\n",
    "lr=LogisticRegression()\n"
   ]
  },
  {
   "cell_type": "code",
   "execution_count": 63,
   "id": "d39a9687",
   "metadata": {},
   "outputs": [
    {
     "data": {
      "text/plain": [
       "0.6955526582645226"
      ]
     },
     "execution_count": 63,
     "metadata": {},
     "output_type": "execute_result"
    }
   ],
   "source": [
    "# hyper parameter tuning the model\n",
    "\n",
    "parameters={\n",
    "          \"random_state\":[0,1,42]\n",
    "           }\n",
    "\n",
    "gslr=GridSearchCV(estimator=lr,param_grid=parameters)\n",
    "\n",
    "gslr.fit(X_train_smote,y_train_smote)\n",
    "\n",
    "gslr.best_score_"
   ]
  },
  {
   "cell_type": "code",
   "execution_count": 66,
   "id": "956fca29",
   "metadata": {},
   "outputs": [
    {
     "data": {
      "text/plain": [
       "{'random_state': 0}"
      ]
     },
     "execution_count": 66,
     "metadata": {},
     "output_type": "execute_result"
    }
   ],
   "source": [
    "gslr.best_params_ # finding the best parameters for this model"
   ]
  },
  {
   "cell_type": "code",
   "execution_count": 68,
   "id": "6eba5578",
   "metadata": {},
   "outputs": [],
   "source": [
    "lr1=LogisticRegression(random_state=0)"
   ]
  },
  {
   "cell_type": "code",
   "execution_count": 70,
   "id": "f86a96ad",
   "metadata": {},
   "outputs": [
    {
     "data": {
      "text/plain": [
       "array([2, 1, 2, 2, 1, 1, 2, 1, 2, 2, 1, 2, 2, 1, 1, 2, 1, 1, 1, 2, 1, 2,\n",
       "       2, 2, 2, 1, 2, 1, 2, 2, 2, 1, 1, 1, 1, 1, 1, 1, 1, 1, 2, 1, 1, 2,\n",
       "       1, 1, 2, 1, 2, 1, 1, 2, 1, 2, 1, 2, 2, 1, 1, 2, 2, 2, 1, 2, 2, 2,\n",
       "       2, 1, 1, 2, 2, 1, 1, 2, 1, 2, 2, 1, 1, 1, 1, 2, 2, 1, 2, 2, 1, 1,\n",
       "       2, 1, 2, 2, 1, 1, 1, 2, 2, 2, 1, 2, 1, 2, 1, 1, 2, 1, 2, 1, 1, 2,\n",
       "       2, 1, 1, 1, 1, 1, 2, 2, 1, 1, 1, 1, 1, 1, 2, 2, 2, 1, 2, 1, 2, 1,\n",
       "       2, 1, 2, 2, 1, 1, 2, 2, 2, 1, 1, 2, 2, 2, 2, 1, 2, 2, 1, 1, 1, 1,\n",
       "       1, 1, 1, 1, 2, 1, 2, 1, 1, 1, 2, 1, 1, 2, 2, 1, 2, 1, 1, 1, 1, 1,\n",
       "       2, 2, 1, 1, 1, 1, 1, 1, 1, 2, 1, 1, 2, 2, 2, 2, 2, 1, 1, 2, 1, 2,\n",
       "       1, 1, 1, 2, 1, 2, 2, 1, 2, 1, 1, 1, 2, 2, 2, 1, 2, 1, 2, 2, 1, 2,\n",
       "       1, 1, 2, 2, 2, 2, 2, 2, 2, 1, 2, 1, 1, 2, 1, 2, 2, 1, 1, 2, 2, 2,\n",
       "       1, 2, 1, 1, 2, 2, 1, 1, 1, 1, 1, 2, 2, 1, 2, 1, 2, 2, 1, 1, 2, 2,\n",
       "       1, 2, 2, 2, 1, 2, 2, 2, 2, 1, 2, 1, 2, 1, 1, 2, 1, 1, 1, 2, 1, 1,\n",
       "       2, 1, 2, 1, 2, 1, 2, 2, 2, 1, 1, 2, 2, 1, 2, 2, 1, 2, 2, 1, 2, 1,\n",
       "       2, 1, 2, 2, 2, 1, 2, 2, 2, 2, 2, 1, 1, 1, 1, 2, 1, 1, 1, 1, 2, 1,\n",
       "       1, 2, 1, 1, 1, 1, 1, 2, 2, 2, 2, 2, 2, 2, 2, 1, 1, 1, 1, 2, 2, 1,\n",
       "       1, 1, 1, 2, 2, 2, 2, 1, 2, 2, 1, 2, 2, 2, 1, 1, 1, 2, 2, 2, 2, 1,\n",
       "       2, 1, 2, 2, 1, 1, 2, 2, 2, 1, 2, 1, 2, 2, 1, 1, 2, 2, 1, 2, 2, 2,\n",
       "       1, 2, 2, 2, 2, 2, 2, 2, 1, 1, 1, 1, 2, 1, 1, 2, 1, 2, 2, 2, 2, 2,\n",
       "       2, 2, 2, 2, 1, 2, 2, 2, 2, 2, 1, 2, 2, 2, 2, 1, 2, 1, 2, 2, 1, 2,\n",
       "       1, 1, 2, 1, 2, 2, 2, 2, 2, 1, 2, 1, 2, 1, 2, 2, 2, 1, 2, 2, 2, 2,\n",
       "       1, 2, 2, 2, 2, 2, 2, 1, 2, 2, 2, 1, 1, 1, 2, 1, 2, 1, 2, 2, 2, 2,\n",
       "       2, 2, 2, 2, 2, 1, 2, 2, 2, 1, 1, 2, 2, 2, 2, 2, 2, 2, 2, 2, 2, 2,\n",
       "       2, 2, 2, 2, 2, 1, 2, 1, 2, 2, 2, 2, 2, 2, 2, 2, 2, 2, 2, 2, 2, 2,\n",
       "       2, 2, 2, 2, 2, 2, 2, 1, 2, 1, 2, 2, 2, 2, 2, 2, 2, 2, 2, 1, 1, 2,\n",
       "       2, 2, 2, 1, 2, 2, 2, 1, 2, 2, 2, 2, 2, 2, 2, 1, 1, 2, 2, 1, 2, 2,\n",
       "       2, 2, 2, 2, 2, 2, 1, 2, 1, 2, 1, 2, 2, 2, 2, 2], dtype=int64)"
      ]
     },
     "execution_count": 70,
     "metadata": {},
     "output_type": "execute_result"
    }
   ],
   "source": [
    "#Training the model\n",
    "\n",
    "lr1.fit(X_train_smote,y_train_smote)\n",
    "lr1_train_predict=lr1.predict(X_train_smote)\n",
    "lr1_train_predict\n"
   ]
  },
  {
   "cell_type": "code",
   "execution_count": 71,
   "id": "c76b75a8",
   "metadata": {
    "scrolled": true
   },
   "outputs": [
    {
     "data": {
      "text/plain": [
       "array([1, 1, 2, 1, 2, 2, 1, 1, 1, 2, 2, 2, 2, 2, 1, 1, 1, 2, 1, 1, 1, 2,\n",
       "       2, 1, 1, 2, 1, 1, 1, 2, 1, 1, 2, 1, 1, 1, 1, 2, 1, 1, 2, 1, 2, 2,\n",
       "       1, 1, 2, 1, 1, 1, 2, 1, 1, 2, 2, 1, 2, 1, 1, 2, 1, 1, 2, 2, 1, 2,\n",
       "       1, 1, 2, 1, 2, 2, 1, 2, 2, 2, 2, 2, 2, 2, 1, 1, 1, 1, 2, 2, 2, 2,\n",
       "       1, 2, 1, 2, 1, 1, 2, 1, 1, 2, 2, 1, 1, 2, 2, 2, 1, 1, 1, 2, 2, 2,\n",
       "       2, 2, 1, 2, 1, 2, 1, 2, 2, 2, 2, 1, 2, 2, 1, 1, 1, 1, 2, 1, 1, 2,\n",
       "       1, 1, 2, 1, 2, 1, 2, 2, 2, 2, 1, 2, 2, 2, 2, 1, 2, 2, 1, 2, 1, 1,\n",
       "       2, 2, 2, 1, 2, 2, 2, 1, 2, 2, 2, 1, 1, 2, 2, 1, 1, 1, 1, 1, 2],\n",
       "      dtype=int64)"
      ]
     },
     "execution_count": 71,
     "metadata": {},
     "output_type": "execute_result"
    }
   ],
   "source": [
    "# Testing The model\n",
    "\n",
    "lr1_test_predict=lr1.predict(X_test)\n",
    "lr1_test_predict\n"
   ]
  },
  {
   "cell_type": "markdown",
   "id": "0001b2df",
   "metadata": {},
   "source": [
    "# 7.2. Decision Tree Classifier"
   ]
  },
  {
   "cell_type": "code",
   "execution_count": 74,
   "id": "8b9897c1",
   "metadata": {},
   "outputs": [],
   "source": [
    "#initializing the model\n",
    "\n",
    "dt=DecisionTreeClassifier()"
   ]
  },
  {
   "cell_type": "code",
   "execution_count": 76,
   "id": "6c33da34",
   "metadata": {},
   "outputs": [
    {
     "data": {
      "text/plain": [
       "0.7330291177748804"
      ]
     },
     "execution_count": 76,
     "metadata": {},
     "output_type": "execute_result"
    }
   ],
   "source": [
    "# hyper parameter tuning the model\n",
    "\n",
    "parameters={\n",
    "           \"criterion\":[\"gini\", \"entropy\", \"log_loss\"],\n",
    "           \"random_state\":[0,1,42]\n",
    "           }\n",
    "\n",
    "gsdt=GridSearchCV(estimator=dt,param_grid=parameters)\n",
    "\n",
    "gsdt.fit(X_train_smote,y_train_smote)\n",
    "\n",
    "gsdt.best_score_"
   ]
  },
  {
   "cell_type": "code",
   "execution_count": 77,
   "id": "bfda78b1",
   "metadata": {},
   "outputs": [
    {
     "data": {
      "text/plain": [
       "{'criterion': 'entropy', 'random_state': 0}"
      ]
     },
     "execution_count": 77,
     "metadata": {},
     "output_type": "execute_result"
    }
   ],
   "source": [
    "gsdt.best_params_ # finding the best parameters for this model"
   ]
  },
  {
   "cell_type": "code",
   "execution_count": 79,
   "id": "eaeaa5ee",
   "metadata": {},
   "outputs": [],
   "source": [
    "dt1=DecisionTreeClassifier(criterion='entropy',random_state=0)"
   ]
  },
  {
   "cell_type": "code",
   "execution_count": 80,
   "id": "22aefadf",
   "metadata": {},
   "outputs": [
    {
     "data": {
      "text/plain": [
       "array([2, 1, 1, 1, 1, 1, 2, 1, 1, 1, 1, 1, 2, 1, 1, 1, 1, 1, 1, 1, 1, 1,\n",
       "       2, 2, 1, 2, 1, 1, 2, 1, 1, 1, 1, 1, 1, 1, 1, 1, 1, 2, 2, 1, 1, 2,\n",
       "       1, 1, 2, 1, 2, 1, 1, 1, 1, 2, 1, 1, 2, 1, 1, 1, 1, 1, 2, 2, 1, 2,\n",
       "       1, 1, 1, 1, 2, 1, 1, 1, 1, 1, 1, 1, 1, 1, 1, 1, 2, 1, 2, 1, 1, 1,\n",
       "       1, 2, 1, 1, 1, 1, 1, 2, 1, 1, 1, 1, 1, 1, 1, 1, 2, 2, 1, 1, 1, 1,\n",
       "       2, 1, 1, 1, 1, 1, 2, 1, 1, 1, 1, 1, 1, 1, 1, 2, 2, 1, 2, 1, 1, 1,\n",
       "       1, 1, 2, 2, 1, 1, 2, 2, 2, 1, 2, 2, 2, 1, 2, 1, 1, 1, 1, 1, 1, 1,\n",
       "       2, 2, 1, 1, 2, 1, 1, 1, 1, 1, 1, 1, 1, 1, 2, 1, 2, 1, 1, 1, 1, 1,\n",
       "       2, 1, 1, 2, 1, 1, 1, 1, 1, 2, 1, 1, 2, 1, 2, 1, 1, 1, 1, 2, 2, 2,\n",
       "       1, 1, 1, 1, 1, 1, 2, 1, 1, 2, 1, 2, 1, 2, 1, 1, 2, 1, 2, 1, 1, 2,\n",
       "       1, 1, 1, 2, 1, 2, 2, 2, 2, 1, 2, 1, 1, 1, 1, 1, 1, 1, 1, 2, 1, 2,\n",
       "       1, 2, 2, 1, 1, 2, 1, 1, 1, 1, 1, 2, 1, 1, 2, 1, 2, 1, 1, 1, 1, 2,\n",
       "       1, 2, 1, 1, 1, 1, 2, 1, 2, 1, 1, 1, 2, 1, 1, 2, 1, 1, 1, 2, 1, 1,\n",
       "       1, 1, 2, 1, 1, 1, 2, 1, 2, 1, 1, 2, 1, 1, 2, 2, 1, 1, 2, 1, 1, 1,\n",
       "       2, 1, 2, 2, 1, 2, 1, 2, 1, 1, 1, 2, 1, 1, 1, 1, 1, 1, 1, 1, 2, 1,\n",
       "       1, 1, 1, 2, 1, 1, 1, 2, 2, 1, 1, 1, 1, 1, 1, 1, 1, 1, 2, 2, 1, 1,\n",
       "       1, 2, 1, 1, 2, 1, 1, 1, 2, 1, 1, 2, 2, 1, 1, 1, 2, 1, 1, 1, 2, 1,\n",
       "       1, 1, 2, 1, 1, 2, 1, 1, 1, 1, 2, 1, 2, 1, 1, 1, 1, 2, 2, 1, 1, 1,\n",
       "       1, 2, 1, 1, 1, 2, 1, 1, 1, 2, 1, 1, 2, 2, 2, 2, 2, 2, 2, 2, 2, 2,\n",
       "       2, 2, 2, 2, 2, 2, 2, 2, 2, 2, 2, 2, 2, 2, 2, 2, 2, 2, 2, 2, 2, 2,\n",
       "       2, 2, 2, 2, 2, 2, 2, 2, 2, 2, 2, 2, 2, 2, 2, 2, 2, 2, 2, 2, 2, 2,\n",
       "       2, 2, 2, 2, 2, 2, 2, 2, 2, 2, 2, 2, 2, 2, 2, 2, 2, 2, 2, 2, 2, 2,\n",
       "       2, 2, 2, 2, 2, 2, 2, 2, 2, 2, 2, 2, 2, 2, 2, 2, 2, 2, 2, 2, 2, 2,\n",
       "       2, 2, 2, 2, 2, 2, 2, 2, 2, 2, 2, 2, 2, 2, 2, 2, 2, 2, 2, 2, 2, 2,\n",
       "       2, 2, 2, 2, 2, 2, 2, 2, 2, 2, 2, 2, 2, 2, 2, 2, 2, 2, 2, 2, 2, 2,\n",
       "       2, 2, 2, 2, 2, 2, 2, 2, 2, 2, 2, 2, 2, 2, 2, 2, 2, 2, 2, 2, 2, 2,\n",
       "       2, 2, 2, 2, 2, 2, 2, 2, 2, 2, 2, 2, 2, 2, 2, 2], dtype=int64)"
      ]
     },
     "execution_count": 80,
     "metadata": {},
     "output_type": "execute_result"
    }
   ],
   "source": [
    "#Training the model\n",
    "\n",
    "dt1.fit(X_train_smote,y_train_smote)\n",
    "dt1_train_predict=dt1.predict(X_train_smote)\n",
    "dt1_train_predict\n"
   ]
  },
  {
   "cell_type": "code",
   "execution_count": 82,
   "id": "a39e0500",
   "metadata": {},
   "outputs": [
    {
     "data": {
      "text/plain": [
       "array([1, 1, 1, 1, 1, 2, 1, 1, 2, 1, 1, 2, 1, 1, 1, 1, 2, 2, 1, 1, 1, 1,\n",
       "       2, 1, 1, 2, 2, 1, 1, 2, 1, 1, 1, 1, 1, 1, 1, 2, 1, 1, 1, 1, 1, 2,\n",
       "       1, 1, 2, 1, 1, 1, 1, 2, 1, 2, 1, 1, 2, 1, 1, 1, 1, 1, 1, 2, 1, 1,\n",
       "       1, 1, 1, 2, 2, 2, 1, 2, 2, 2, 1, 2, 1, 1, 1, 1, 1, 1, 1, 1, 2, 2,\n",
       "       1, 1, 1, 2, 1, 1, 2, 1, 1, 2, 1, 1, 2, 2, 1, 2, 1, 1, 1, 2, 2, 1,\n",
       "       2, 2, 1, 2, 1, 1, 2, 2, 1, 1, 1, 1, 1, 1, 1, 1, 2, 1, 2, 1, 1, 1,\n",
       "       2, 2, 2, 1, 2, 1, 2, 2, 1, 1, 1, 2, 1, 2, 1, 2, 2, 1, 1, 2, 2, 1,\n",
       "       1, 1, 1, 2, 2, 1, 1, 2, 1, 2, 1, 1, 2, 1, 1, 2, 2, 1, 1, 2, 2],\n",
       "      dtype=int64)"
      ]
     },
     "execution_count": 82,
     "metadata": {},
     "output_type": "execute_result"
    }
   ],
   "source": [
    "# Testing The model\n",
    "\n",
    "dt1_test_predict=dt1.predict(X_test)\n",
    "dt1_test_predict\n"
   ]
  },
  {
   "cell_type": "markdown",
   "id": "1b171a04",
   "metadata": {},
   "source": [
    "# 7.3. Random Forest Classifier"
   ]
  },
  {
   "cell_type": "code",
   "execution_count": 84,
   "id": "bf66f563",
   "metadata": {},
   "outputs": [],
   "source": [
    "#initializing the model\n",
    "\n",
    "rf=RandomForestClassifier()"
   ]
  },
  {
   "cell_type": "code",
   "execution_count": 85,
   "id": "41032202",
   "metadata": {},
   "outputs": [
    {
     "data": {
      "text/plain": [
       "0.8112270027524264"
      ]
     },
     "execution_count": 85,
     "metadata": {},
     "output_type": "execute_result"
    }
   ],
   "source": [
    "# hyper parameter tuning the model\n",
    "\n",
    "parameters={\n",
    "           \"criterion\":[\"gini\", \"entropy\", \"log_loss\"],\n",
    "           \"random_state\":[0,1,42]\n",
    "           }\n",
    "\n",
    "gsrf=GridSearchCV(estimator=rf,param_grid=parameters)\n",
    "\n",
    "gsrf.fit(X_train_smote,y_train_smote)\n",
    "\n",
    "gsrf.best_score_"
   ]
  },
  {
   "cell_type": "code",
   "execution_count": 86,
   "id": "c1816efc",
   "metadata": {},
   "outputs": [
    {
     "data": {
      "text/plain": [
       "{'criterion': 'gini', 'random_state': 0}"
      ]
     },
     "execution_count": 86,
     "metadata": {},
     "output_type": "execute_result"
    }
   ],
   "source": [
    "gsrf.best_params_ # finding the best parameters for this model"
   ]
  },
  {
   "cell_type": "code",
   "execution_count": 87,
   "id": "e7f9723c",
   "metadata": {},
   "outputs": [],
   "source": [
    "rf1=RandomForestClassifier(criterion='gini',random_state=0)"
   ]
  },
  {
   "cell_type": "code",
   "execution_count": 88,
   "id": "2f62b7fc",
   "metadata": {},
   "outputs": [
    {
     "data": {
      "text/plain": [
       "array([2, 1, 1, 1, 1, 1, 2, 1, 1, 1, 1, 1, 2, 1, 1, 1, 1, 1, 1, 1, 1, 1,\n",
       "       2, 2, 1, 2, 1, 1, 2, 1, 1, 1, 1, 1, 1, 1, 1, 1, 1, 2, 2, 1, 1, 2,\n",
       "       1, 1, 2, 1, 2, 1, 1, 1, 1, 2, 1, 1, 2, 1, 1, 1, 1, 1, 2, 2, 1, 2,\n",
       "       1, 1, 1, 1, 2, 1, 1, 1, 1, 1, 1, 1, 1, 1, 1, 1, 2, 1, 2, 1, 1, 1,\n",
       "       1, 2, 1, 1, 1, 1, 1, 2, 1, 1, 1, 1, 1, 1, 1, 1, 2, 2, 1, 1, 1, 1,\n",
       "       2, 1, 1, 1, 1, 1, 2, 1, 1, 1, 1, 1, 1, 1, 1, 2, 2, 1, 2, 1, 1, 1,\n",
       "       1, 1, 2, 2, 1, 1, 2, 2, 2, 1, 2, 2, 2, 1, 2, 1, 1, 1, 1, 1, 1, 1,\n",
       "       2, 2, 1, 1, 2, 1, 1, 1, 1, 1, 1, 1, 1, 1, 2, 1, 2, 1, 1, 1, 1, 1,\n",
       "       2, 1, 1, 2, 1, 1, 1, 1, 1, 2, 1, 1, 2, 1, 2, 1, 1, 1, 1, 2, 2, 2,\n",
       "       1, 1, 1, 1, 1, 1, 2, 1, 1, 2, 1, 2, 1, 2, 1, 1, 2, 1, 2, 1, 1, 2,\n",
       "       1, 1, 1, 2, 1, 2, 2, 2, 2, 1, 2, 1, 1, 1, 1, 1, 1, 1, 1, 2, 1, 2,\n",
       "       1, 2, 2, 1, 1, 2, 1, 1, 1, 1, 1, 2, 1, 1, 2, 1, 2, 1, 1, 1, 1, 2,\n",
       "       1, 2, 1, 1, 1, 1, 2, 1, 2, 1, 1, 1, 2, 1, 1, 2, 1, 1, 1, 2, 1, 1,\n",
       "       1, 1, 2, 1, 1, 1, 2, 1, 2, 1, 1, 2, 1, 1, 2, 2, 1, 1, 2, 1, 1, 1,\n",
       "       2, 1, 2, 2, 1, 2, 1, 2, 1, 1, 1, 2, 1, 1, 1, 1, 1, 1, 1, 1, 2, 1,\n",
       "       1, 1, 1, 2, 1, 1, 1, 2, 2, 1, 1, 1, 1, 1, 1, 1, 1, 1, 2, 2, 1, 1,\n",
       "       1, 2, 1, 1, 2, 1, 1, 1, 2, 1, 1, 2, 2, 1, 1, 1, 2, 1, 1, 1, 2, 1,\n",
       "       1, 1, 2, 1, 1, 2, 1, 1, 1, 1, 2, 1, 2, 1, 1, 1, 1, 2, 2, 1, 1, 1,\n",
       "       1, 2, 1, 1, 1, 2, 1, 1, 1, 2, 1, 1, 2, 2, 2, 2, 2, 2, 2, 2, 2, 2,\n",
       "       2, 2, 2, 2, 2, 2, 2, 2, 2, 2, 2, 2, 2, 2, 2, 2, 2, 2, 2, 2, 2, 2,\n",
       "       2, 2, 2, 2, 2, 2, 2, 2, 2, 2, 2, 2, 2, 2, 2, 2, 2, 2, 2, 2, 2, 2,\n",
       "       2, 2, 2, 2, 2, 2, 2, 2, 2, 2, 2, 2, 2, 2, 2, 2, 2, 2, 2, 2, 2, 2,\n",
       "       2, 2, 2, 2, 2, 2, 2, 2, 2, 2, 2, 2, 2, 2, 2, 2, 2, 2, 2, 2, 2, 2,\n",
       "       2, 2, 2, 2, 2, 2, 2, 2, 2, 2, 2, 2, 2, 2, 2, 2, 2, 2, 2, 2, 2, 2,\n",
       "       2, 2, 2, 2, 2, 2, 2, 2, 2, 2, 2, 2, 2, 2, 2, 2, 2, 2, 2, 2, 2, 2,\n",
       "       2, 2, 2, 2, 2, 2, 2, 2, 2, 2, 2, 2, 2, 2, 2, 2, 2, 2, 2, 2, 2, 2,\n",
       "       2, 2, 2, 2, 2, 2, 2, 2, 2, 2, 2, 2, 2, 2, 2, 2], dtype=int64)"
      ]
     },
     "execution_count": 88,
     "metadata": {},
     "output_type": "execute_result"
    }
   ],
   "source": [
    "#Training the model\n",
    "\n",
    "rf1.fit(X_train_smote,y_train_smote)\n",
    "rf1_train_predict=rf1.predict(X_train_smote)\n",
    "rf1_train_predict"
   ]
  },
  {
   "cell_type": "code",
   "execution_count": 90,
   "id": "83a3c76b",
   "metadata": {},
   "outputs": [
    {
     "data": {
      "text/plain": [
       "array([1, 1, 1, 1, 1, 2, 1, 1, 1, 1, 1, 2, 1, 2, 1, 1, 1, 1, 1, 1, 1, 1,\n",
       "       1, 1, 1, 2, 1, 1, 1, 1, 1, 1, 1, 1, 1, 1, 1, 1, 1, 1, 1, 1, 2, 2,\n",
       "       1, 1, 2, 1, 1, 2, 1, 1, 1, 2, 2, 1, 2, 1, 1, 1, 1, 1, 1, 2, 1, 1,\n",
       "       1, 1, 1, 1, 2, 1, 1, 1, 2, 2, 1, 2, 2, 1, 1, 1, 1, 1, 1, 1, 1, 1,\n",
       "       1, 1, 1, 2, 1, 1, 2, 1, 1, 2, 2, 1, 1, 2, 2, 2, 1, 1, 1, 2, 1, 1,\n",
       "       2, 2, 1, 2, 1, 1, 1, 2, 1, 1, 2, 1, 1, 1, 1, 1, 1, 1, 1, 1, 1, 2,\n",
       "       1, 1, 2, 1, 2, 1, 1, 2, 1, 1, 1, 2, 2, 2, 1, 1, 2, 2, 1, 1, 1, 1,\n",
       "       1, 2, 1, 1, 2, 1, 1, 1, 1, 1, 1, 1, 1, 1, 2, 1, 1, 2, 1, 2, 1],\n",
       "      dtype=int64)"
      ]
     },
     "execution_count": 90,
     "metadata": {},
     "output_type": "execute_result"
    }
   ],
   "source": [
    "# Testing The model\n",
    "\n",
    "rf1_test_predict=rf1.predict(X_test)\n",
    "rf1_test_predict\n"
   ]
  },
  {
   "cell_type": "markdown",
   "id": "c25eb802",
   "metadata": {},
   "source": [
    "# 7.4 K Nearest Neighbors Classifier"
   ]
  },
  {
   "cell_type": "code",
   "execution_count": 92,
   "id": "5ee484f8",
   "metadata": {},
   "outputs": [],
   "source": [
    "#initializing the model\n",
    "\n",
    "knn=KNeighborsClassifier()"
   ]
  },
  {
   "cell_type": "code",
   "execution_count": 93,
   "id": "a74a2e08",
   "metadata": {},
   "outputs": [
    {
     "data": {
      "text/plain": [
       "0.7414892075909025"
      ]
     },
     "execution_count": 93,
     "metadata": {},
     "output_type": "execute_result"
    }
   ],
   "source": [
    "# hyper parameter tuning the model\n",
    "\n",
    "parameters={\n",
    "           \"n_neighbors\":[5,7,9]\n",
    "           }\n",
    "\n",
    "gsknn=GridSearchCV(estimator=knn,param_grid=parameters)\n",
    "\n",
    "gsknn.fit(X_train_smote,y_train_smote)\n",
    "\n",
    "gsknn.best_score_"
   ]
  },
  {
   "cell_type": "code",
   "execution_count": 94,
   "id": "1a6e8b2c",
   "metadata": {},
   "outputs": [
    {
     "data": {
      "text/plain": [
       "{'n_neighbors': 5}"
      ]
     },
     "execution_count": 94,
     "metadata": {},
     "output_type": "execute_result"
    }
   ],
   "source": [
    "gsknn.best_params_ # finding the best parameters for this model"
   ]
  },
  {
   "cell_type": "code",
   "execution_count": 95,
   "id": "6a23e5c6",
   "metadata": {},
   "outputs": [],
   "source": [
    "knn1=KNeighborsClassifier(n_neighbors=5)"
   ]
  },
  {
   "cell_type": "code",
   "execution_count": 96,
   "id": "17beda2c",
   "metadata": {},
   "outputs": [
    {
     "data": {
      "text/plain": [
       "array([2, 2, 2, 1, 1, 1, 2, 1, 2, 1, 1, 1, 2, 2, 1, 1, 1, 1, 1, 2, 1, 1,\n",
       "       1, 2, 2, 2, 2, 1, 2, 2, 2, 1, 1, 1, 1, 2, 1, 1, 1, 1, 2, 1, 1, 2,\n",
       "       1, 1, 2, 1, 2, 1, 1, 1, 1, 1, 2, 1, 2, 1, 1, 2, 2, 1, 2, 2, 1, 1,\n",
       "       2, 1, 1, 1, 2, 1, 1, 1, 1, 2, 1, 1, 2, 1, 1, 1, 2, 1, 2, 1, 1, 2,\n",
       "       2, 2, 1, 1, 1, 1, 1, 2, 1, 1, 1, 1, 1, 2, 2, 1, 2, 2, 1, 1, 1, 2,\n",
       "       2, 1, 1, 1, 2, 1, 2, 2, 1, 1, 1, 1, 1, 2, 1, 2, 2, 1, 2, 1, 1, 2,\n",
       "       1, 1, 2, 2, 1, 1, 2, 2, 2, 1, 2, 2, 2, 1, 2, 1, 1, 2, 1, 1, 2, 1,\n",
       "       2, 2, 1, 1, 2, 1, 1, 1, 2, 1, 2, 1, 1, 1, 2, 2, 2, 1, 2, 2, 1, 2,\n",
       "       1, 2, 1, 2, 1, 1, 1, 1, 1, 1, 1, 1, 2, 1, 2, 1, 1, 1, 1, 2, 1, 2,\n",
       "       1, 1, 1, 1, 1, 1, 2, 1, 2, 2, 1, 2, 2, 2, 2, 1, 2, 1, 2, 1, 1, 2,\n",
       "       1, 1, 1, 2, 1, 2, 2, 2, 2, 1, 2, 1, 2, 2, 1, 2, 2, 1, 1, 2, 1, 2,\n",
       "       2, 2, 1, 1, 2, 2, 2, 1, 1, 2, 1, 2, 1, 1, 2, 1, 2, 2, 1, 1, 2, 2,\n",
       "       1, 2, 2, 2, 1, 2, 2, 2, 2, 1, 2, 1, 1, 1, 1, 2, 2, 1, 1, 2, 1, 1,\n",
       "       1, 1, 2, 2, 2, 2, 2, 1, 1, 1, 1, 2, 1, 1, 2, 2, 1, 2, 2, 1, 2, 1,\n",
       "       2, 1, 2, 2, 2, 2, 1, 1, 2, 1, 2, 2, 1, 2, 1, 1, 1, 1, 1, 1, 2, 2,\n",
       "       2, 1, 1, 2, 1, 1, 1, 2, 2, 1, 1, 2, 1, 2, 2, 1, 1, 1, 2, 2, 2, 2,\n",
       "       1, 2, 1, 2, 2, 1, 1, 1, 2, 2, 1, 2, 2, 1, 1, 1, 2, 1, 1, 1, 2, 1,\n",
       "       2, 1, 2, 2, 1, 2, 2, 2, 2, 1, 2, 1, 2, 2, 1, 2, 2, 2, 2, 2, 2, 2,\n",
       "       1, 2, 1, 2, 1, 2, 1, 2, 1, 2, 1, 1, 2, 2, 2, 2, 2, 2, 2, 2, 2, 2,\n",
       "       2, 2, 2, 2, 2, 2, 2, 2, 2, 2, 2, 2, 2, 2, 2, 2, 2, 2, 2, 2, 2, 2,\n",
       "       2, 2, 2, 2, 2, 2, 2, 2, 2, 2, 2, 2, 2, 2, 2, 2, 1, 2, 2, 2, 2, 2,\n",
       "       2, 2, 2, 2, 2, 2, 2, 2, 2, 2, 2, 2, 2, 2, 2, 2, 2, 2, 2, 2, 2, 2,\n",
       "       2, 2, 2, 2, 2, 2, 2, 2, 2, 2, 2, 2, 2, 2, 2, 2, 2, 2, 2, 2, 2, 2,\n",
       "       2, 2, 2, 2, 2, 2, 2, 2, 2, 2, 2, 2, 2, 2, 2, 2, 2, 2, 2, 2, 2, 2,\n",
       "       2, 2, 2, 2, 2, 2, 2, 2, 2, 2, 2, 2, 2, 2, 2, 2, 2, 2, 2, 2, 2, 2,\n",
       "       2, 2, 2, 2, 2, 2, 2, 2, 2, 2, 2, 2, 2, 2, 2, 2, 2, 2, 2, 2, 2, 1,\n",
       "       2, 2, 2, 2, 2, 2, 1, 2, 2, 2, 2, 2, 2, 2, 2, 2], dtype=int64)"
      ]
     },
     "execution_count": 96,
     "metadata": {},
     "output_type": "execute_result"
    }
   ],
   "source": [
    "#Training the model\n",
    "\n",
    "knn1.fit(X_train_smote,y_train_smote)\n",
    "knn1_train_predict=knn1.predict(X_train_smote)\n",
    "knn1_train_predict"
   ]
  },
  {
   "cell_type": "code",
   "execution_count": 97,
   "id": "b972498a",
   "metadata": {},
   "outputs": [
    {
     "data": {
      "text/plain": [
       "array([1, 1, 2, 1, 2, 1, 1, 1, 1, 2, 1, 2, 1, 2, 2, 1, 2, 2, 1, 2, 1, 1,\n",
       "       2, 1, 1, 2, 1, 1, 1, 2, 1, 1, 1, 1, 1, 1, 1, 2, 1, 1, 1, 2, 2, 1,\n",
       "       1, 2, 2, 1, 1, 1, 2, 2, 2, 2, 1, 1, 2, 2, 1, 1, 1, 1, 2, 2, 1, 2,\n",
       "       1, 1, 2, 1, 1, 1, 1, 2, 2, 2, 2, 1, 2, 2, 1, 1, 1, 2, 1, 2, 2, 1,\n",
       "       1, 2, 1, 2, 1, 1, 2, 1, 1, 2, 2, 2, 1, 1, 2, 2, 1, 1, 2, 1, 1, 1,\n",
       "       2, 2, 1, 2, 1, 1, 2, 2, 1, 2, 2, 2, 2, 1, 2, 1, 1, 2, 1, 1, 1, 2,\n",
       "       1, 2, 2, 1, 1, 1, 1, 2, 1, 1, 1, 2, 2, 1, 1, 2, 2, 1, 2, 2, 1, 1,\n",
       "       2, 2, 2, 1, 2, 1, 2, 1, 1, 1, 1, 1, 1, 1, 2, 2, 1, 1, 1, 2, 2],\n",
       "      dtype=int64)"
      ]
     },
     "execution_count": 97,
     "metadata": {},
     "output_type": "execute_result"
    }
   ],
   "source": [
    "# Testing The model\n",
    "\n",
    "knn1_test_predict=knn1.predict(X_test)\n",
    "knn1_test_predict"
   ]
  },
  {
   "cell_type": "markdown",
   "id": "926b4449",
   "metadata": {},
   "source": [
    "# 7.5. Naive Bayes Algorithm"
   ]
  },
  {
   "cell_type": "code",
   "execution_count": 99,
   "id": "41ed30c4",
   "metadata": {},
   "outputs": [],
   "source": [
    "#initializing the model\n",
    "\n",
    "nb1=GaussianNB()"
   ]
  },
  {
   "cell_type": "code",
   "execution_count": 100,
   "id": "b55522a3",
   "metadata": {},
   "outputs": [
    {
     "data": {
      "text/plain": [
       "array([1, 1, 2, 2, 1, 1, 2, 2, 2, 2, 1, 2, 2, 2, 1, 2, 1, 2, 1, 2, 2, 2,\n",
       "       2, 2, 2, 1, 2, 1, 2, 2, 2, 2, 1, 1, 1, 1, 2, 1, 1, 1, 2, 1, 2, 2,\n",
       "       1, 1, 2, 1, 2, 1, 1, 2, 2, 2, 2, 2, 2, 2, 1, 2, 2, 2, 1, 2, 2, 2,\n",
       "       2, 1, 1, 2, 2, 1, 1, 2, 2, 2, 2, 1, 2, 1, 1, 2, 2, 1, 2, 2, 2, 2,\n",
       "       2, 2, 2, 2, 2, 1, 1, 2, 2, 2, 2, 2, 1, 2, 1, 1, 2, 1, 2, 1, 1, 2,\n",
       "       2, 2, 1, 1, 1, 1, 2, 2, 2, 2, 1, 1, 1, 1, 2, 2, 2, 2, 2, 2, 1, 2,\n",
       "       2, 1, 2, 2, 1, 2, 2, 2, 2, 1, 1, 2, 2, 2, 2, 2, 2, 2, 2, 1, 2, 2,\n",
       "       1, 1, 1, 1, 2, 1, 2, 2, 1, 1, 2, 2, 1, 2, 2, 2, 2, 2, 1, 2, 1, 2,\n",
       "       2, 2, 2, 2, 1, 1, 2, 1, 1, 2, 2, 2, 1, 2, 2, 2, 2, 1, 2, 2, 1, 2,\n",
       "       1, 1, 1, 2, 1, 2, 2, 2, 2, 1, 1, 1, 2, 2, 2, 2, 1, 1, 2, 2, 1, 2,\n",
       "       1, 1, 2, 2, 2, 2, 2, 2, 2, 1, 2, 1, 2, 2, 1, 2, 2, 2, 2, 2, 2, 2,\n",
       "       2, 2, 1, 1, 2, 2, 1, 1, 1, 1, 1, 2, 2, 1, 2, 1, 2, 2, 1, 2, 2, 2,\n",
       "       1, 2, 2, 2, 1, 2, 2, 2, 2, 1, 2, 1, 2, 1, 1, 2, 2, 2, 2, 2, 2, 1,\n",
       "       2, 1, 2, 2, 2, 1, 2, 2, 2, 1, 1, 2, 2, 1, 2, 2, 1, 2, 2, 1, 2, 1,\n",
       "       2, 2, 2, 2, 2, 2, 1, 2, 2, 2, 2, 2, 2, 2, 1, 2, 1, 2, 2, 1, 2, 2,\n",
       "       1, 2, 2, 2, 1, 2, 2, 2, 2, 2, 2, 2, 2, 2, 2, 1, 1, 2, 2, 2, 2, 1,\n",
       "       1, 2, 1, 2, 2, 2, 2, 1, 2, 2, 1, 2, 2, 2, 1, 1, 2, 2, 2, 2, 2, 1,\n",
       "       2, 2, 2, 2, 2, 2, 2, 2, 2, 2, 2, 2, 2, 2, 2, 1, 2, 2, 1, 2, 2, 2,\n",
       "       1, 2, 2, 2, 2, 2, 1, 2, 1, 2, 1, 1, 2, 1, 2, 2, 2, 2, 2, 2, 2, 2,\n",
       "       2, 2, 2, 2, 2, 2, 2, 2, 2, 2, 2, 2, 2, 2, 2, 2, 2, 1, 2, 2, 2, 2,\n",
       "       1, 2, 2, 1, 2, 2, 2, 2, 2, 2, 2, 1, 2, 1, 2, 2, 2, 2, 2, 2, 2, 2,\n",
       "       2, 2, 2, 2, 2, 2, 2, 2, 2, 2, 2, 2, 2, 1, 2, 2, 2, 1, 2, 2, 2, 2,\n",
       "       2, 2, 2, 2, 2, 2, 2, 2, 2, 2, 2, 2, 2, 2, 2, 2, 2, 2, 2, 1, 2, 2,\n",
       "       2, 2, 2, 2, 2, 2, 2, 1, 2, 2, 2, 2, 2, 2, 2, 2, 2, 2, 2, 2, 2, 2,\n",
       "       2, 2, 2, 2, 2, 2, 2, 2, 2, 2, 2, 2, 2, 2, 2, 2, 2, 2, 2, 2, 2, 2,\n",
       "       2, 1, 2, 2, 2, 1, 2, 1, 2, 2, 2, 2, 2, 2, 2, 1, 1, 2, 2, 2, 2, 2,\n",
       "       2, 2, 2, 2, 2, 2, 1, 2, 1, 2, 2, 1, 2, 2, 2, 2], dtype=int64)"
      ]
     },
     "execution_count": 100,
     "metadata": {},
     "output_type": "execute_result"
    }
   ],
   "source": [
    "#Training the model\n",
    "\n",
    "nb1.fit(X_train_smote,y_train_smote)\n",
    "nb1_train_predict=nb1.predict(X_train_smote)\n",
    "nb1_train_predict"
   ]
  },
  {
   "cell_type": "code",
   "execution_count": 101,
   "id": "56b7c204",
   "metadata": {},
   "outputs": [
    {
     "data": {
      "text/plain": [
       "array([1, 1, 2, 1, 2, 2, 2, 2, 1, 2, 2, 2, 2, 2, 1, 2, 2, 2, 2, 2, 1, 2,\n",
       "       2, 2, 2, 2, 1, 2, 1, 2, 1, 1, 2, 2, 2, 1, 1, 2, 1, 2, 2, 2, 2, 2,\n",
       "       2, 1, 2, 1, 2, 1, 2, 1, 1, 2, 2, 1, 2, 2, 2, 2, 1, 1, 2, 2, 2, 2,\n",
       "       1, 1, 2, 1, 2, 2, 2, 2, 2, 2, 2, 2, 2, 2, 2, 1, 1, 2, 2, 2, 2, 2,\n",
       "       1, 2, 1, 2, 1, 1, 2, 1, 2, 2, 2, 1, 2, 2, 2, 2, 1, 1, 2, 2, 2, 2,\n",
       "       2, 2, 2, 2, 1, 1, 2, 2, 2, 2, 2, 1, 2, 2, 2, 1, 1, 1, 2, 2, 1, 2,\n",
       "       1, 2, 2, 2, 2, 2, 2, 2, 2, 2, 1, 2, 2, 2, 2, 2, 2, 2, 1, 2, 2, 1,\n",
       "       2, 2, 2, 1, 2, 2, 2, 2, 2, 2, 2, 1, 2, 2, 2, 2, 2, 1, 1, 1, 2],\n",
       "      dtype=int64)"
      ]
     },
     "execution_count": 101,
     "metadata": {},
     "output_type": "execute_result"
    }
   ],
   "source": [
    "# Testing The model\n",
    "\n",
    "nb1_test_predict=nb1.predict(X_test)\n",
    "nb1_test_predict"
   ]
  },
  {
   "cell_type": "markdown",
   "id": "354b1b0a",
   "metadata": {},
   "source": [
    "# 7.6. Support Vector Machine"
   ]
  },
  {
   "cell_type": "code",
   "execution_count": 102,
   "id": "53e9836f",
   "metadata": {},
   "outputs": [],
   "source": [
    "#initializing the model\n",
    "\n",
    "svc=SVC()"
   ]
  },
  {
   "cell_type": "code",
   "execution_count": 103,
   "id": "5ee05301",
   "metadata": {},
   "outputs": [
    {
     "data": {
      "text/plain": [
       "0.7278574532811821"
      ]
     },
     "execution_count": 103,
     "metadata": {},
     "output_type": "execute_result"
    }
   ],
   "source": [
    "# hyper parameter tuning the model\n",
    "\n",
    "parameters={\n",
    "           \"kernel\":['linear','rbf'],\n",
    "           \"random_state\":[0,1,42]\n",
    "           }\n",
    "\n",
    "gssvc=GridSearchCV(estimator=svc,param_grid=parameters)\n",
    "\n",
    "gssvc.fit(X_train_smote,y_train_smote)\n",
    "\n",
    "gssvc.best_score_"
   ]
  },
  {
   "cell_type": "code",
   "execution_count": 104,
   "id": "435e94cd",
   "metadata": {},
   "outputs": [
    {
     "data": {
      "text/plain": [
       "{'kernel': 'rbf', 'random_state': 0}"
      ]
     },
     "execution_count": 104,
     "metadata": {},
     "output_type": "execute_result"
    }
   ],
   "source": [
    "gssvc.best_params_ # finding the best parameters for this model"
   ]
  },
  {
   "cell_type": "code",
   "execution_count": 105,
   "id": "d186f896",
   "metadata": {},
   "outputs": [],
   "source": [
    "svc1=SVC(kernel='rbf', random_state= 0)"
   ]
  },
  {
   "cell_type": "code",
   "execution_count": 106,
   "id": "dba1fb31",
   "metadata": {},
   "outputs": [
    {
     "data": {
      "text/plain": [
       "array([2, 1, 2, 2, 1, 1, 2, 1, 2, 2, 1, 2, 2, 1, 1, 2, 1, 1, 1, 2, 1, 2,\n",
       "       2, 2, 1, 1, 2, 1, 2, 2, 2, 1, 1, 1, 1, 1, 1, 1, 1, 1, 2, 2, 1, 2,\n",
       "       1, 1, 2, 1, 2, 1, 1, 1, 2, 2, 1, 2, 2, 1, 1, 2, 2, 1, 2, 2, 2, 2,\n",
       "       1, 1, 1, 2, 2, 1, 1, 2, 1, 2, 1, 1, 1, 1, 1, 2, 2, 1, 2, 1, 1, 1,\n",
       "       2, 1, 2, 2, 1, 1, 1, 2, 2, 1, 1, 1, 1, 2, 2, 1, 2, 2, 2, 1, 1, 2,\n",
       "       2, 1, 1, 1, 1, 1, 2, 2, 1, 1, 1, 1, 1, 1, 2, 2, 2, 1, 2, 1, 1, 1,\n",
       "       1, 1, 2, 2, 1, 2, 2, 2, 1, 1, 1, 2, 2, 2, 2, 1, 2, 2, 1, 1, 1, 1,\n",
       "       2, 2, 1, 1, 2, 1, 2, 1, 1, 1, 2, 2, 1, 2, 2, 2, 2, 1, 1, 2, 1, 1,\n",
       "       1, 2, 1, 2, 1, 1, 1, 1, 1, 2, 1, 1, 2, 1, 2, 2, 2, 1, 1, 2, 2, 2,\n",
       "       1, 1, 1, 1, 1, 2, 2, 1, 2, 1, 1, 1, 2, 2, 2, 1, 2, 1, 2, 2, 1, 2,\n",
       "       1, 1, 2, 2, 1, 2, 2, 2, 2, 1, 2, 1, 1, 1, 1, 2, 2, 1, 1, 2, 2, 2,\n",
       "       1, 1, 1, 1, 2, 2, 1, 1, 1, 1, 1, 2, 2, 1, 2, 1, 2, 2, 1, 1, 2, 2,\n",
       "       1, 2, 2, 2, 1, 2, 2, 2, 2, 1, 2, 1, 2, 1, 1, 2, 1, 1, 1, 2, 1, 1,\n",
       "       2, 1, 2, 2, 2, 1, 2, 1, 2, 1, 1, 2, 2, 1, 2, 2, 1, 2, 2, 1, 2, 1,\n",
       "       2, 1, 2, 2, 2, 1, 1, 1, 2, 2, 2, 2, 1, 1, 1, 2, 1, 1, 1, 1, 2, 2,\n",
       "       2, 2, 1, 2, 1, 1, 1, 2, 2, 1, 2, 2, 1, 2, 2, 1, 1, 1, 1, 2, 2, 1,\n",
       "       1, 2, 1, 2, 2, 1, 2, 1, 2, 2, 1, 2, 2, 1, 1, 1, 2, 2, 2, 1, 2, 1,\n",
       "       2, 1, 2, 2, 1, 2, 2, 2, 1, 1, 2, 1, 2, 2, 1, 1, 2, 2, 1, 2, 1, 1,\n",
       "       1, 2, 2, 2, 2, 2, 1, 2, 1, 2, 1, 1, 2, 2, 2, 2, 2, 2, 2, 2, 2, 2,\n",
       "       2, 2, 2, 2, 2, 2, 2, 2, 2, 2, 2, 2, 2, 2, 2, 2, 2, 2, 2, 2, 1, 2,\n",
       "       1, 2, 2, 1, 2, 2, 2, 2, 2, 1, 2, 1, 2, 2, 2, 2, 2, 2, 2, 2, 2, 2,\n",
       "       2, 2, 2, 2, 2, 2, 2, 2, 2, 2, 2, 1, 1, 1, 2, 1, 2, 2, 2, 2, 2, 2,\n",
       "       2, 2, 2, 2, 2, 2, 2, 2, 2, 2, 2, 2, 2, 2, 2, 2, 2, 2, 2, 2, 2, 2,\n",
       "       2, 2, 2, 2, 2, 2, 2, 1, 2, 2, 2, 2, 2, 2, 2, 2, 2, 2, 2, 2, 2, 2,\n",
       "       2, 2, 2, 2, 2, 2, 2, 2, 2, 2, 2, 2, 2, 2, 2, 2, 2, 2, 2, 2, 2, 2,\n",
       "       2, 2, 2, 2, 2, 2, 2, 1, 2, 2, 2, 2, 2, 2, 2, 1, 2, 2, 2, 2, 2, 2,\n",
       "       2, 2, 2, 2, 2, 2, 1, 2, 1, 2, 1, 1, 2, 1, 2, 2], dtype=int64)"
      ]
     },
     "execution_count": 106,
     "metadata": {},
     "output_type": "execute_result"
    }
   ],
   "source": [
    "#Training the model\n",
    "\n",
    "svc1.fit(X_train_smote,y_train_smote)\n",
    "svc1_train_predict=svc1.predict(X_train_smote)\n",
    "svc1_train_predict"
   ]
  },
  {
   "cell_type": "code",
   "execution_count": 107,
   "id": "84774e5e",
   "metadata": {},
   "outputs": [
    {
     "data": {
      "text/plain": [
       "array([1, 1, 2, 1, 2, 2, 1, 2, 1, 2, 2, 2, 2, 2, 1, 1, 1, 2, 1, 1, 1, 2,\n",
       "       1, 1, 1, 2, 1, 1, 1, 2, 1, 1, 2, 1, 1, 1, 1, 2, 1, 1, 1, 1, 2, 1,\n",
       "       1, 1, 2, 1, 1, 1, 2, 2, 1, 2, 2, 1, 2, 2, 1, 2, 1, 1, 1, 2, 1, 2,\n",
       "       1, 1, 2, 1, 2, 2, 1, 2, 2, 2, 2, 1, 2, 2, 1, 1, 1, 1, 2, 2, 2, 2,\n",
       "       1, 1, 1, 2, 1, 1, 2, 1, 1, 2, 2, 2, 2, 1, 2, 2, 1, 1, 1, 2, 1, 2,\n",
       "       2, 2, 2, 2, 1, 1, 2, 2, 1, 2, 2, 2, 1, 2, 2, 1, 1, 1, 2, 1, 1, 2,\n",
       "       1, 1, 2, 1, 2, 1, 2, 2, 2, 2, 1, 2, 2, 2, 1, 1, 2, 1, 1, 2, 1, 1,\n",
       "       2, 2, 1, 1, 2, 2, 2, 1, 2, 1, 1, 1, 1, 2, 2, 2, 2, 1, 1, 2, 2],\n",
       "      dtype=int64)"
      ]
     },
     "execution_count": 107,
     "metadata": {},
     "output_type": "execute_result"
    }
   ],
   "source": [
    "# Testing The model\n",
    "\n",
    "svc1_test_predict=svc1.predict(X_test)\n",
    "svc1_test_predict"
   ]
  },
  {
   "cell_type": "markdown",
   "id": "f0b59fcb",
   "metadata": {},
   "source": [
    "# 8. Evaluating the performance of the models"
   ]
  },
  {
   "cell_type": "code",
   "execution_count": 108,
   "id": "9160b39f",
   "metadata": {},
   "outputs": [],
   "source": [
    "# The models are evaluated using\n",
    "# 1. accuracy score\n",
    "# 2. confusion matrix\n",
    "# 3. classification report#"
   ]
  },
  {
   "cell_type": "markdown",
   "id": "c621b919",
   "metadata": {},
   "source": [
    "# 8.1. Accuracy score"
   ]
  },
  {
   "cell_type": "code",
   "execution_count": 113,
   "id": "eb060e0d",
   "metadata": {},
   "outputs": [
    {
     "name": "stdout",
     "output_type": "stream",
     "text": [
      "1. logistic regression Algorithm\n",
      "\n",
      "On Training data:  0.70578231292517\n",
      "On Testing Data:  0.68\n"
     ]
    }
   ],
   "source": [
    "# logistic regression Algorithm\n",
    "\n",
    "print(\"1. logistic regression Algorithm\\n\")\n",
    "# On Training data\n",
    "print(\"On Training data: \",accuracy_score(y_train_smote,lr1_train_predict))\n",
    "\n",
    "# On Testing Data\n",
    "print(\"On Testing Data: \",accuracy_score(y_test,lr1_test_predict))"
   ]
  },
  {
   "cell_type": "code",
   "execution_count": 115,
   "id": "a4b8e5e9",
   "metadata": {},
   "outputs": [
    {
     "name": "stdout",
     "output_type": "stream",
     "text": [
      "2. Decision Tree Classifier\n",
      "\n",
      "On Training data:  1.0\n",
      "On Testing Data:  0.6571428571428571\n"
     ]
    }
   ],
   "source": [
    "# Decision Tree Classifier\n",
    "\n",
    "print(\"2. Decision Tree Classifier\\n\")\n",
    "# On Training data\n",
    "print(\"On Training data: \",accuracy_score(y_train_smote,dt1_train_predict))\n",
    "\n",
    "# On Testing Data\n",
    "print(\"On Testing Data: \",accuracy_score(y_test,dt1_test_predict))"
   ]
  },
  {
   "cell_type": "code",
   "execution_count": 117,
   "id": "f8732edb",
   "metadata": {},
   "outputs": [
    {
     "name": "stdout",
     "output_type": "stream",
     "text": [
      "3. Random Forest Classifier\n",
      "\n",
      "On Training data:  1.0\n",
      "On Testing Data:  0.6971428571428572\n"
     ]
    }
   ],
   "source": [
    "# Random Forest Classifier\n",
    "\n",
    "print(\"3. Random Forest Classifier\\n\")\n",
    "# On Training data\n",
    "print(\"On Training data: \",accuracy_score(y_train_smote,rf1_train_predict))\n",
    "\n",
    "# On Testing Data\n",
    "print(\"On Testing Data: \",accuracy_score(y_test,rf1_test_predict))"
   ]
  },
  {
   "cell_type": "code",
   "execution_count": 119,
   "id": "e71838f3",
   "metadata": {},
   "outputs": [
    {
     "name": "stdout",
     "output_type": "stream",
     "text": [
      "4. K Nearest Neighbors\n",
      "\n",
      "On Training data:  0.8333333333333334\n",
      "On Testing Data:  0.6228571428571429\n"
     ]
    }
   ],
   "source": [
    "# K Nearest Neighbors\n",
    "\n",
    "print(\"4. K Nearest Neighbors\\n\")\n",
    "# On Training data\n",
    "print(\"On Training data: \",accuracy_score(y_train_smote,knn1_train_predict))\n",
    "\n",
    "# On Testing Data\n",
    "print(\"On Testing Data: \",accuracy_score(y_test,knn1_test_predict))"
   ]
  },
  {
   "cell_type": "code",
   "execution_count": 121,
   "id": "bf6e5ec4",
   "metadata": {},
   "outputs": [
    {
     "name": "stdout",
     "output_type": "stream",
     "text": [
      "5. Naive Bayes\n",
      "\n",
      "On Training data:  0.6479591836734694\n",
      "On Testing Data:  0.52\n"
     ]
    }
   ],
   "source": [
    "# Naive Bayes\n",
    "\n",
    "print(\"5. Naive Bayes\\n\")\n",
    "# On Training data\n",
    "print(\"On Training data: \",accuracy_score(y_train_smote,nb1_train_predict))\n",
    "\n",
    "# On Testing Data\n",
    "print(\"On Testing Data: \",accuracy_score(y_test,nb1_test_predict))"
   ]
  },
  {
   "cell_type": "code",
   "execution_count": 122,
   "id": "458305c2",
   "metadata": {},
   "outputs": [
    {
     "name": "stdout",
     "output_type": "stream",
     "text": [
      "6. Support Vector Machine\n",
      "\n",
      "On Training data:  0.782312925170068\n",
      "On Testing Data:  0.6457142857142857\n"
     ]
    }
   ],
   "source": [
    "# Support Vector Machine\n",
    "\n",
    "print(\"6. Support Vector Machine\\n\")\n",
    "# On Training data\n",
    "print(\"On Training data: \",accuracy_score(y_train_smote,svc1_train_predict))\n",
    "\n",
    "# On Testing Data\n",
    "print(\"On Testing Data: \",accuracy_score(y_test,svc1_test_predict))"
   ]
  },
  {
   "cell_type": "markdown",
   "id": "b26fb546",
   "metadata": {},
   "source": [
    "# 8.2. confusion matrix"
   ]
  },
  {
   "cell_type": "code",
   "execution_count": 129,
   "id": "e30d3b0c",
   "metadata": {},
   "outputs": [
    {
     "name": "stdout",
     "output_type": "stream",
     "text": [
      "1. logistic regression Algorithm\n"
     ]
    },
    {
     "data": {
      "text/plain": [
       "array([[76, 46],\n",
       "       [10, 43]], dtype=int64)"
      ]
     },
     "execution_count": 129,
     "metadata": {},
     "output_type": "execute_result"
    }
   ],
   "source": [
    "# logistic regression Algorithm\n",
    "\n",
    "print(\"1. logistic regression Algorithm\")\n",
    "confusion_matrix(y_test,lr1_test_predict)"
   ]
  },
  {
   "cell_type": "code",
   "execution_count": 131,
   "id": "19a957ee",
   "metadata": {},
   "outputs": [
    {
     "name": "stdout",
     "output_type": "stream",
     "text": [
      "2. Decision Tree Classifier\n"
     ]
    },
    {
     "data": {
      "text/plain": [
       "array([[88, 34],\n",
       "       [26, 27]], dtype=int64)"
      ]
     },
     "execution_count": 131,
     "metadata": {},
     "output_type": "execute_result"
    }
   ],
   "source": [
    "# Decision Tree Classifier\n",
    "\n",
    "print(\"2. Decision Tree Classifier\")\n",
    "confusion_matrix(y_test,dt1_test_predict)"
   ]
  },
  {
   "cell_type": "code",
   "execution_count": 132,
   "id": "d45b351a",
   "metadata": {},
   "outputs": [
    {
     "name": "stdout",
     "output_type": "stream",
     "text": [
      "3. Random Forest Classifier\n"
     ]
    },
    {
     "data": {
      "text/plain": [
       "array([[100,  22],\n",
       "       [ 31,  22]], dtype=int64)"
      ]
     },
     "execution_count": 132,
     "metadata": {},
     "output_type": "execute_result"
    }
   ],
   "source": [
    "# Random Forest Classifier\n",
    "\n",
    "print(\"3. Random Forest Classifier\")\n",
    "confusion_matrix(y_test,rf1_test_predict)"
   ]
  },
  {
   "cell_type": "code",
   "execution_count": 133,
   "id": "de8638a4",
   "metadata": {},
   "outputs": [
    {
     "name": "stdout",
     "output_type": "stream",
     "text": [
      "4. K Nearest Neighbors\n"
     ]
    },
    {
     "data": {
      "text/plain": [
       "array([[78, 44],\n",
       "       [22, 31]], dtype=int64)"
      ]
     },
     "execution_count": 133,
     "metadata": {},
     "output_type": "execute_result"
    }
   ],
   "source": [
    "# K Nearest Neighbors\n",
    "\n",
    "print(\"4. K Nearest Neighbors\")\n",
    "confusion_matrix(y_test,knn1_test_predict)"
   ]
  },
  {
   "cell_type": "code",
   "execution_count": 134,
   "id": "2f5b4708",
   "metadata": {},
   "outputs": [
    {
     "name": "stdout",
     "output_type": "stream",
     "text": [
      "5. Naive Bayes\n"
     ]
    },
    {
     "data": {
      "text/plain": [
       "array([[44, 78],\n",
       "       [ 6, 47]], dtype=int64)"
      ]
     },
     "execution_count": 134,
     "metadata": {},
     "output_type": "execute_result"
    }
   ],
   "source": [
    "# Naive Bayes\n",
    "\n",
    "print(\"5. Naive Bayes\")\n",
    "confusion_matrix(y_test,nb1_test_predict)"
   ]
  },
  {
   "cell_type": "code",
   "execution_count": 135,
   "id": "541ca9c9",
   "metadata": {},
   "outputs": [
    {
     "name": "stdout",
     "output_type": "stream",
     "text": [
      "6. Support Vector Machine\n"
     ]
    },
    {
     "data": {
      "text/plain": [
       "array([[75, 47],\n",
       "       [15, 38]], dtype=int64)"
      ]
     },
     "execution_count": 135,
     "metadata": {},
     "output_type": "execute_result"
    }
   ],
   "source": [
    "# Support Vector Machine\n",
    "\n",
    "print(\"6. Support Vector Machine\")\n",
    "confusion_matrix(y_test,svc1_test_predict)"
   ]
  },
  {
   "cell_type": "markdown",
   "id": "d69b6132",
   "metadata": {},
   "source": [
    "# 8.3. Classification Report"
   ]
  },
  {
   "cell_type": "code",
   "execution_count": 143,
   "id": "8a06673c",
   "metadata": {},
   "outputs": [
    {
     "name": "stdout",
     "output_type": "stream",
     "text": [
      "1. logistic regression Algorithm\n",
      "              precision    recall  f1-score   support\n",
      "\n",
      "           1       0.88      0.62      0.73       122\n",
      "           2       0.48      0.81      0.61        53\n",
      "\n",
      "    accuracy                           0.68       175\n",
      "   macro avg       0.68      0.72      0.67       175\n",
      "weighted avg       0.76      0.68      0.69       175\n",
      "\n"
     ]
    }
   ],
   "source": [
    "# logistic regression Algorithm\n",
    "\n",
    "print(\"1. logistic regression Algorithm\")\n",
    "print(classification_report(y_test,lr1_test_predict))"
   ]
  },
  {
   "cell_type": "code",
   "execution_count": 144,
   "id": "84fd21fd",
   "metadata": {},
   "outputs": [
    {
     "name": "stdout",
     "output_type": "stream",
     "text": [
      "2. Decision Tree Classifier\n",
      "              precision    recall  f1-score   support\n",
      "\n",
      "           1       0.77      0.72      0.75       122\n",
      "           2       0.44      0.51      0.47        53\n",
      "\n",
      "    accuracy                           0.66       175\n",
      "   macro avg       0.61      0.62      0.61       175\n",
      "weighted avg       0.67      0.66      0.66       175\n",
      "\n"
     ]
    }
   ],
   "source": [
    "# Decision Tree Classifier\n",
    "\n",
    "print(\"2. Decision Tree Classifier\")\n",
    "print(classification_report(y_test,dt1_test_predict))"
   ]
  },
  {
   "cell_type": "code",
   "execution_count": 145,
   "id": "1081d49a",
   "metadata": {},
   "outputs": [
    {
     "name": "stdout",
     "output_type": "stream",
     "text": [
      "3.  Random Forest Classifier\n",
      "              precision    recall  f1-score   support\n",
      "\n",
      "           1       0.76      0.82      0.79       122\n",
      "           2       0.50      0.42      0.45        53\n",
      "\n",
      "    accuracy                           0.70       175\n",
      "   macro avg       0.63      0.62      0.62       175\n",
      "weighted avg       0.68      0.70      0.69       175\n",
      "\n"
     ]
    }
   ],
   "source": [
    "# Random Forest Classifier\n",
    "\n",
    "print(\"3.  Random Forest Classifier\")\n",
    "print(classification_report(y_test,rf1_test_predict))"
   ]
  },
  {
   "cell_type": "code",
   "execution_count": 146,
   "id": "a4484d14",
   "metadata": {},
   "outputs": [
    {
     "name": "stdout",
     "output_type": "stream",
     "text": [
      "4. K Nearest Neighbors\n",
      "              precision    recall  f1-score   support\n",
      "\n",
      "           1       0.78      0.64      0.70       122\n",
      "           2       0.41      0.58      0.48        53\n",
      "\n",
      "    accuracy                           0.62       175\n",
      "   macro avg       0.60      0.61      0.59       175\n",
      "weighted avg       0.67      0.62      0.64       175\n",
      "\n"
     ]
    }
   ],
   "source": [
    "# K Nearest Neighbors\n",
    "\n",
    "print(\"4. K Nearest Neighbors\")\n",
    "print(classification_report(y_test,knn1_test_predict))"
   ]
  },
  {
   "cell_type": "code",
   "execution_count": 147,
   "id": "c7f7d103",
   "metadata": {},
   "outputs": [
    {
     "name": "stdout",
     "output_type": "stream",
     "text": [
      "5. Naive Bayes\n",
      "              precision    recall  f1-score   support\n",
      "\n",
      "           1       0.88      0.36      0.51       122\n",
      "           2       0.38      0.89      0.53        53\n",
      "\n",
      "    accuracy                           0.52       175\n",
      "   macro avg       0.63      0.62      0.52       175\n",
      "weighted avg       0.73      0.52      0.52       175\n",
      "\n"
     ]
    }
   ],
   "source": [
    "# Naive Bayes\n",
    "\n",
    "print(\"5. Naive Bayes\")\n",
    "print(classification_report(y_test,nb1_test_predict))"
   ]
  },
  {
   "cell_type": "code",
   "execution_count": 148,
   "id": "72c26236",
   "metadata": {},
   "outputs": [
    {
     "name": "stdout",
     "output_type": "stream",
     "text": [
      "6. Support Vector Machine\n",
      "              precision    recall  f1-score   support\n",
      "\n",
      "           1       0.83      0.61      0.71       122\n",
      "           2       0.45      0.72      0.55        53\n",
      "\n",
      "    accuracy                           0.65       175\n",
      "   macro avg       0.64      0.67      0.63       175\n",
      "weighted avg       0.72      0.65      0.66       175\n",
      "\n"
     ]
    }
   ],
   "source": [
    "# Support Vector Machine\n",
    "\n",
    "print(\"6. Support Vector Machine\")\n",
    "print(classification_report(y_test,svc1_test_predict))"
   ]
  },
  {
   "cell_type": "markdown",
   "id": "2570bc98",
   "metadata": {},
   "source": [
    "# 9. Selecting and saving the model"
   ]
  },
  {
   "cell_type": "code",
   "execution_count": 149,
   "id": "68ed9eae",
   "metadata": {},
   "outputs": [
    {
     "data": {
      "text/plain": [
       "['selected_model.pkl']"
      ]
     },
     "execution_count": 149,
     "metadata": {},
     "output_type": "execute_result"
    }
   ],
   "source": [
    "# From the performance of each model \"Naive Bayes\" gives the best performance\n",
    "# so this algorithm is used to predict the result for our model\n",
    "\n",
    "# Saving the model\n",
    "\n",
    "from joblib import Parallel, delayed\n",
    "import joblib\n",
    "\n",
    "# save the model as a pickle in a file\n",
    "joblib.dump(nb1, 'selected_model.pkl')"
   ]
  }
 ],
 "metadata": {
  "kernelspec": {
   "display_name": "Python 3 (ipykernel)",
   "language": "python",
   "name": "python3"
  },
  "language_info": {
   "codemirror_mode": {
    "name": "ipython",
    "version": 3
   },
   "file_extension": ".py",
   "mimetype": "text/x-python",
   "name": "python",
   "nbconvert_exporter": "python",
   "pygments_lexer": "ipython3",
   "version": "3.9.5"
  }
 },
 "nbformat": 4,
 "nbformat_minor": 5
}
